{
 "cells": [
  {
   "attachments": {},
   "cell_type": "markdown",
   "metadata": {},
   "source": [
    "# Feature Engineering & Feature Extraction"
   ]
  },
  {
   "cell_type": "markdown",
   "metadata": {},
   "source": [
    "## Attaching Resources"
   ]
  },
  {
   "cell_type": "markdown",
   "metadata": {},
   "source": [
    "### Importing Necessary Libraries"
   ]
  },
  {
   "cell_type": "code",
   "execution_count": 10,
   "metadata": {},
   "outputs": [
    {
     "data": {
      "text/plain": [
       "<Figure size 3750x2000 with 0 Axes>"
      ]
     },
     "metadata": {},
     "output_type": "display_data"
    }
   ],
   "source": [
    "import numpy as np\n",
    "import pandas as pd\n",
    "import matplotlib.pyplot as plt\n",
    "import seaborn as sns\n",
    "from sklearn.feature_selection import mutual_info_regression\n",
    "from sklearn.tree import DecisionTreeRegressor\n",
    "from sklearn.preprocessing import StandardScaler\n",
    "from sklearn.decomposition import PCA\n",
    "from sklearn.model_selection import train_test_split\n",
    "\n",
    "import warnings\n",
    "\n",
    "warnings.filterwarnings('ignore')\n",
    "plt.rcParams['figure.figsize'] = (15,8)\n",
    "plt.rcParams['figure.dpi'] = 250\n",
    "sns.set_style(style='darkgrid')\n",
    "plt.tight_layout()\n",
    "%matplotlib inline"
   ]
  },
  {
   "cell_type": "markdown",
   "metadata": {},
   "source": [
    "### Adding Dataset"
   ]
  },
  {
   "cell_type": "code",
   "execution_count": 2,
   "metadata": {},
   "outputs": [
    {
     "data": {
      "text/html": [
       "<div>\n",
       "<style scoped>\n",
       "    .dataframe tbody tr th:only-of-type {\n",
       "        vertical-align: middle;\n",
       "    }\n",
       "\n",
       "    .dataframe tbody tr th {\n",
       "        vertical-align: top;\n",
       "    }\n",
       "\n",
       "    .dataframe thead th {\n",
       "        text-align: right;\n",
       "    }\n",
       "</style>\n",
       "<table border=\"1\" class=\"dataframe\">\n",
       "  <thead>\n",
       "    <tr style=\"text-align: right;\">\n",
       "      <th></th>\n",
       "      <th>temperature</th>\n",
       "      <th>exhaust_vacuum</th>\n",
       "      <th>amb_pressure</th>\n",
       "      <th>r_humidity</th>\n",
       "      <th>energy_production</th>\n",
       "      <th>log_temp</th>\n",
       "      <th>sqrt_temp</th>\n",
       "      <th>log_ev</th>\n",
       "      <th>sqrt_ev</th>\n",
       "      <th>log_ap</th>\n",
       "      <th>sqrt_ap</th>\n",
       "      <th>log_rh</th>\n",
       "      <th>sqrt_rh</th>\n",
       "    </tr>\n",
       "  </thead>\n",
       "  <tbody>\n",
       "    <tr>\n",
       "      <th>0</th>\n",
       "      <td>9.59</td>\n",
       "      <td>38.56</td>\n",
       "      <td>1017.01</td>\n",
       "      <td>60.10</td>\n",
       "      <td>481.30</td>\n",
       "      <td>2.260721</td>\n",
       "      <td>3.096773</td>\n",
       "      <td>3.652215</td>\n",
       "      <td>6.209670</td>\n",
       "      <td>6.924622</td>\n",
       "      <td>31.890594</td>\n",
       "      <td>4.096010</td>\n",
       "      <td>7.752419</td>\n",
       "    </tr>\n",
       "    <tr>\n",
       "      <th>1</th>\n",
       "      <td>12.04</td>\n",
       "      <td>42.34</td>\n",
       "      <td>1019.72</td>\n",
       "      <td>94.67</td>\n",
       "      <td>465.36</td>\n",
       "      <td>2.488234</td>\n",
       "      <td>3.469870</td>\n",
       "      <td>3.745732</td>\n",
       "      <td>6.506919</td>\n",
       "      <td>6.927283</td>\n",
       "      <td>31.933055</td>\n",
       "      <td>4.550397</td>\n",
       "      <td>9.729851</td>\n",
       "    </tr>\n",
       "    <tr>\n",
       "      <th>2</th>\n",
       "      <td>13.87</td>\n",
       "      <td>45.08</td>\n",
       "      <td>1024.42</td>\n",
       "      <td>81.69</td>\n",
       "      <td>465.48</td>\n",
       "      <td>2.629728</td>\n",
       "      <td>3.724245</td>\n",
       "      <td>3.808439</td>\n",
       "      <td>6.714164</td>\n",
       "      <td>6.931882</td>\n",
       "      <td>32.006562</td>\n",
       "      <td>4.402932</td>\n",
       "      <td>9.038252</td>\n",
       "    </tr>\n",
       "    <tr>\n",
       "      <th>3</th>\n",
       "      <td>13.72</td>\n",
       "      <td>54.30</td>\n",
       "      <td>1017.89</td>\n",
       "      <td>79.08</td>\n",
       "      <td>467.05</td>\n",
       "      <td>2.618855</td>\n",
       "      <td>3.704052</td>\n",
       "      <td>3.994524</td>\n",
       "      <td>7.368853</td>\n",
       "      <td>6.925487</td>\n",
       "      <td>31.904388</td>\n",
       "      <td>4.370460</td>\n",
       "      <td>8.892694</td>\n",
       "    </tr>\n",
       "    <tr>\n",
       "      <th>4</th>\n",
       "      <td>15.14</td>\n",
       "      <td>49.64</td>\n",
       "      <td>1023.78</td>\n",
       "      <td>75.00</td>\n",
       "      <td>463.58</td>\n",
       "      <td>2.717340</td>\n",
       "      <td>3.891015</td>\n",
       "      <td>3.904797</td>\n",
       "      <td>7.045566</td>\n",
       "      <td>6.931257</td>\n",
       "      <td>31.996562</td>\n",
       "      <td>4.317488</td>\n",
       "      <td>8.660254</td>\n",
       "    </tr>\n",
       "    <tr>\n",
       "      <th>...</th>\n",
       "      <td>...</td>\n",
       "      <td>...</td>\n",
       "      <td>...</td>\n",
       "      <td>...</td>\n",
       "      <td>...</td>\n",
       "      <td>...</td>\n",
       "      <td>...</td>\n",
       "      <td>...</td>\n",
       "      <td>...</td>\n",
       "      <td>...</td>\n",
       "      <td>...</td>\n",
       "      <td>...</td>\n",
       "      <td>...</td>\n",
       "    </tr>\n",
       "    <tr>\n",
       "      <th>9522</th>\n",
       "      <td>17.10</td>\n",
       "      <td>49.69</td>\n",
       "      <td>1005.53</td>\n",
       "      <td>81.82</td>\n",
       "      <td>457.32</td>\n",
       "      <td>2.839078</td>\n",
       "      <td>4.135215</td>\n",
       "      <td>3.905804</td>\n",
       "      <td>7.049113</td>\n",
       "      <td>6.913270</td>\n",
       "      <td>31.710093</td>\n",
       "      <td>4.404522</td>\n",
       "      <td>9.045441</td>\n",
       "    </tr>\n",
       "    <tr>\n",
       "      <th>9523</th>\n",
       "      <td>24.73</td>\n",
       "      <td>65.34</td>\n",
       "      <td>1015.42</td>\n",
       "      <td>52.80</td>\n",
       "      <td>446.92</td>\n",
       "      <td>3.208017</td>\n",
       "      <td>4.972927</td>\n",
       "      <td>4.179604</td>\n",
       "      <td>8.083316</td>\n",
       "      <td>6.923058</td>\n",
       "      <td>31.865655</td>\n",
       "      <td>3.966511</td>\n",
       "      <td>7.266361</td>\n",
       "    </tr>\n",
       "    <tr>\n",
       "      <th>9524</th>\n",
       "      <td>30.44</td>\n",
       "      <td>56.24</td>\n",
       "      <td>1005.19</td>\n",
       "      <td>56.24</td>\n",
       "      <td>429.34</td>\n",
       "      <td>3.415758</td>\n",
       "      <td>5.517246</td>\n",
       "      <td>4.029628</td>\n",
       "      <td>7.499333</td>\n",
       "      <td>6.912932</td>\n",
       "      <td>31.704732</td>\n",
       "      <td>4.029628</td>\n",
       "      <td>7.499333</td>\n",
       "    </tr>\n",
       "    <tr>\n",
       "      <th>9525</th>\n",
       "      <td>23.00</td>\n",
       "      <td>66.05</td>\n",
       "      <td>1020.61</td>\n",
       "      <td>80.29</td>\n",
       "      <td>421.57</td>\n",
       "      <td>3.135494</td>\n",
       "      <td>4.795832</td>\n",
       "      <td>4.190412</td>\n",
       "      <td>8.127115</td>\n",
       "      <td>6.928156</td>\n",
       "      <td>31.946987</td>\n",
       "      <td>4.385645</td>\n",
       "      <td>8.960469</td>\n",
       "    </tr>\n",
       "    <tr>\n",
       "      <th>9526</th>\n",
       "      <td>17.75</td>\n",
       "      <td>49.25</td>\n",
       "      <td>1020.86</td>\n",
       "      <td>63.67</td>\n",
       "      <td>454.41</td>\n",
       "      <td>2.876386</td>\n",
       "      <td>4.213075</td>\n",
       "      <td>3.896909</td>\n",
       "      <td>7.017834</td>\n",
       "      <td>6.928401</td>\n",
       "      <td>31.950900</td>\n",
       "      <td>4.153713</td>\n",
       "      <td>7.979348</td>\n",
       "    </tr>\n",
       "  </tbody>\n",
       "</table>\n",
       "<p>9527 rows × 13 columns</p>\n",
       "</div>"
      ],
      "text/plain": [
       "      temperature  exhaust_vacuum  amb_pressure  r_humidity  \\\n",
       "0            9.59           38.56       1017.01       60.10   \n",
       "1           12.04           42.34       1019.72       94.67   \n",
       "2           13.87           45.08       1024.42       81.69   \n",
       "3           13.72           54.30       1017.89       79.08   \n",
       "4           15.14           49.64       1023.78       75.00   \n",
       "...           ...             ...           ...         ...   \n",
       "9522        17.10           49.69       1005.53       81.82   \n",
       "9523        24.73           65.34       1015.42       52.80   \n",
       "9524        30.44           56.24       1005.19       56.24   \n",
       "9525        23.00           66.05       1020.61       80.29   \n",
       "9526        17.75           49.25       1020.86       63.67   \n",
       "\n",
       "      energy_production  log_temp  sqrt_temp    log_ev   sqrt_ev    log_ap  \\\n",
       "0                481.30  2.260721   3.096773  3.652215  6.209670  6.924622   \n",
       "1                465.36  2.488234   3.469870  3.745732  6.506919  6.927283   \n",
       "2                465.48  2.629728   3.724245  3.808439  6.714164  6.931882   \n",
       "3                467.05  2.618855   3.704052  3.994524  7.368853  6.925487   \n",
       "4                463.58  2.717340   3.891015  3.904797  7.045566  6.931257   \n",
       "...                 ...       ...        ...       ...       ...       ...   \n",
       "9522             457.32  2.839078   4.135215  3.905804  7.049113  6.913270   \n",
       "9523             446.92  3.208017   4.972927  4.179604  8.083316  6.923058   \n",
       "9524             429.34  3.415758   5.517246  4.029628  7.499333  6.912932   \n",
       "9525             421.57  3.135494   4.795832  4.190412  8.127115  6.928156   \n",
       "9526             454.41  2.876386   4.213075  3.896909  7.017834  6.928401   \n",
       "\n",
       "        sqrt_ap    log_rh   sqrt_rh  \n",
       "0     31.890594  4.096010  7.752419  \n",
       "1     31.933055  4.550397  9.729851  \n",
       "2     32.006562  4.402932  9.038252  \n",
       "3     31.904388  4.370460  8.892694  \n",
       "4     31.996562  4.317488  8.660254  \n",
       "...         ...       ...       ...  \n",
       "9522  31.710093  4.404522  9.045441  \n",
       "9523  31.865655  3.966511  7.266361  \n",
       "9524  31.704732  4.029628  7.499333  \n",
       "9525  31.946987  4.385645  8.960469  \n",
       "9526  31.950900  4.153713  7.979348  \n",
       "\n",
       "[9527 rows x 13 columns]"
      ]
     },
     "execution_count": 2,
     "metadata": {},
     "output_type": "execute_result"
    }
   ],
   "source": [
    "ep = pd.read_csv('https://raw.githubusercontent.com/kunal-mallick/Energy_Production/main/Data%20Preprocessing%20%26%20EDA/EDA.csv')\n",
    "\n",
    "ep"
   ]
  },
  {
   "cell_type": "markdown",
   "metadata": {},
   "source": [
    "## Splitting The Data Into Target and Independent set"
   ]
  },
  {
   "cell_type": "code",
   "execution_count": 3,
   "metadata": {},
   "outputs": [],
   "source": [
    "x = ep.drop(columns = ['energy_production'])\n",
    "y = ep['energy_production']"
   ]
  },
  {
   "cell_type": "code",
   "execution_count": 4,
   "metadata": {},
   "outputs": [
    {
     "data": {
      "text/html": [
       "<div>\n",
       "<style scoped>\n",
       "    .dataframe tbody tr th:only-of-type {\n",
       "        vertical-align: middle;\n",
       "    }\n",
       "\n",
       "    .dataframe tbody tr th {\n",
       "        vertical-align: top;\n",
       "    }\n",
       "\n",
       "    .dataframe thead th {\n",
       "        text-align: right;\n",
       "    }\n",
       "</style>\n",
       "<table border=\"1\" class=\"dataframe\">\n",
       "  <thead>\n",
       "    <tr style=\"text-align: right;\">\n",
       "      <th></th>\n",
       "      <th>temperature</th>\n",
       "      <th>exhaust_vacuum</th>\n",
       "      <th>amb_pressure</th>\n",
       "      <th>r_humidity</th>\n",
       "      <th>log_temp</th>\n",
       "      <th>sqrt_temp</th>\n",
       "      <th>log_ev</th>\n",
       "      <th>sqrt_ev</th>\n",
       "      <th>log_ap</th>\n",
       "      <th>sqrt_ap</th>\n",
       "      <th>log_rh</th>\n",
       "      <th>sqrt_rh</th>\n",
       "    </tr>\n",
       "  </thead>\n",
       "  <tbody>\n",
       "    <tr>\n",
       "      <th>0</th>\n",
       "      <td>9.59</td>\n",
       "      <td>38.56</td>\n",
       "      <td>1017.01</td>\n",
       "      <td>60.10</td>\n",
       "      <td>2.260721</td>\n",
       "      <td>3.096773</td>\n",
       "      <td>3.652215</td>\n",
       "      <td>6.209670</td>\n",
       "      <td>6.924622</td>\n",
       "      <td>31.890594</td>\n",
       "      <td>4.096010</td>\n",
       "      <td>7.752419</td>\n",
       "    </tr>\n",
       "    <tr>\n",
       "      <th>1</th>\n",
       "      <td>12.04</td>\n",
       "      <td>42.34</td>\n",
       "      <td>1019.72</td>\n",
       "      <td>94.67</td>\n",
       "      <td>2.488234</td>\n",
       "      <td>3.469870</td>\n",
       "      <td>3.745732</td>\n",
       "      <td>6.506919</td>\n",
       "      <td>6.927283</td>\n",
       "      <td>31.933055</td>\n",
       "      <td>4.550397</td>\n",
       "      <td>9.729851</td>\n",
       "    </tr>\n",
       "    <tr>\n",
       "      <th>2</th>\n",
       "      <td>13.87</td>\n",
       "      <td>45.08</td>\n",
       "      <td>1024.42</td>\n",
       "      <td>81.69</td>\n",
       "      <td>2.629728</td>\n",
       "      <td>3.724245</td>\n",
       "      <td>3.808439</td>\n",
       "      <td>6.714164</td>\n",
       "      <td>6.931882</td>\n",
       "      <td>32.006562</td>\n",
       "      <td>4.402932</td>\n",
       "      <td>9.038252</td>\n",
       "    </tr>\n",
       "    <tr>\n",
       "      <th>3</th>\n",
       "      <td>13.72</td>\n",
       "      <td>54.30</td>\n",
       "      <td>1017.89</td>\n",
       "      <td>79.08</td>\n",
       "      <td>2.618855</td>\n",
       "      <td>3.704052</td>\n",
       "      <td>3.994524</td>\n",
       "      <td>7.368853</td>\n",
       "      <td>6.925487</td>\n",
       "      <td>31.904388</td>\n",
       "      <td>4.370460</td>\n",
       "      <td>8.892694</td>\n",
       "    </tr>\n",
       "    <tr>\n",
       "      <th>4</th>\n",
       "      <td>15.14</td>\n",
       "      <td>49.64</td>\n",
       "      <td>1023.78</td>\n",
       "      <td>75.00</td>\n",
       "      <td>2.717340</td>\n",
       "      <td>3.891015</td>\n",
       "      <td>3.904797</td>\n",
       "      <td>7.045566</td>\n",
       "      <td>6.931257</td>\n",
       "      <td>31.996562</td>\n",
       "      <td>4.317488</td>\n",
       "      <td>8.660254</td>\n",
       "    </tr>\n",
       "    <tr>\n",
       "      <th>...</th>\n",
       "      <td>...</td>\n",
       "      <td>...</td>\n",
       "      <td>...</td>\n",
       "      <td>...</td>\n",
       "      <td>...</td>\n",
       "      <td>...</td>\n",
       "      <td>...</td>\n",
       "      <td>...</td>\n",
       "      <td>...</td>\n",
       "      <td>...</td>\n",
       "      <td>...</td>\n",
       "      <td>...</td>\n",
       "    </tr>\n",
       "    <tr>\n",
       "      <th>9522</th>\n",
       "      <td>17.10</td>\n",
       "      <td>49.69</td>\n",
       "      <td>1005.53</td>\n",
       "      <td>81.82</td>\n",
       "      <td>2.839078</td>\n",
       "      <td>4.135215</td>\n",
       "      <td>3.905804</td>\n",
       "      <td>7.049113</td>\n",
       "      <td>6.913270</td>\n",
       "      <td>31.710093</td>\n",
       "      <td>4.404522</td>\n",
       "      <td>9.045441</td>\n",
       "    </tr>\n",
       "    <tr>\n",
       "      <th>9523</th>\n",
       "      <td>24.73</td>\n",
       "      <td>65.34</td>\n",
       "      <td>1015.42</td>\n",
       "      <td>52.80</td>\n",
       "      <td>3.208017</td>\n",
       "      <td>4.972927</td>\n",
       "      <td>4.179604</td>\n",
       "      <td>8.083316</td>\n",
       "      <td>6.923058</td>\n",
       "      <td>31.865655</td>\n",
       "      <td>3.966511</td>\n",
       "      <td>7.266361</td>\n",
       "    </tr>\n",
       "    <tr>\n",
       "      <th>9524</th>\n",
       "      <td>30.44</td>\n",
       "      <td>56.24</td>\n",
       "      <td>1005.19</td>\n",
       "      <td>56.24</td>\n",
       "      <td>3.415758</td>\n",
       "      <td>5.517246</td>\n",
       "      <td>4.029628</td>\n",
       "      <td>7.499333</td>\n",
       "      <td>6.912932</td>\n",
       "      <td>31.704732</td>\n",
       "      <td>4.029628</td>\n",
       "      <td>7.499333</td>\n",
       "    </tr>\n",
       "    <tr>\n",
       "      <th>9525</th>\n",
       "      <td>23.00</td>\n",
       "      <td>66.05</td>\n",
       "      <td>1020.61</td>\n",
       "      <td>80.29</td>\n",
       "      <td>3.135494</td>\n",
       "      <td>4.795832</td>\n",
       "      <td>4.190412</td>\n",
       "      <td>8.127115</td>\n",
       "      <td>6.928156</td>\n",
       "      <td>31.946987</td>\n",
       "      <td>4.385645</td>\n",
       "      <td>8.960469</td>\n",
       "    </tr>\n",
       "    <tr>\n",
       "      <th>9526</th>\n",
       "      <td>17.75</td>\n",
       "      <td>49.25</td>\n",
       "      <td>1020.86</td>\n",
       "      <td>63.67</td>\n",
       "      <td>2.876386</td>\n",
       "      <td>4.213075</td>\n",
       "      <td>3.896909</td>\n",
       "      <td>7.017834</td>\n",
       "      <td>6.928401</td>\n",
       "      <td>31.950900</td>\n",
       "      <td>4.153713</td>\n",
       "      <td>7.979348</td>\n",
       "    </tr>\n",
       "  </tbody>\n",
       "</table>\n",
       "<p>9527 rows × 12 columns</p>\n",
       "</div>"
      ],
      "text/plain": [
       "      temperature  exhaust_vacuum  amb_pressure  r_humidity  log_temp  \\\n",
       "0            9.59           38.56       1017.01       60.10  2.260721   \n",
       "1           12.04           42.34       1019.72       94.67  2.488234   \n",
       "2           13.87           45.08       1024.42       81.69  2.629728   \n",
       "3           13.72           54.30       1017.89       79.08  2.618855   \n",
       "4           15.14           49.64       1023.78       75.00  2.717340   \n",
       "...           ...             ...           ...         ...       ...   \n",
       "9522        17.10           49.69       1005.53       81.82  2.839078   \n",
       "9523        24.73           65.34       1015.42       52.80  3.208017   \n",
       "9524        30.44           56.24       1005.19       56.24  3.415758   \n",
       "9525        23.00           66.05       1020.61       80.29  3.135494   \n",
       "9526        17.75           49.25       1020.86       63.67  2.876386   \n",
       "\n",
       "      sqrt_temp    log_ev   sqrt_ev    log_ap    sqrt_ap    log_rh   sqrt_rh  \n",
       "0      3.096773  3.652215  6.209670  6.924622  31.890594  4.096010  7.752419  \n",
       "1      3.469870  3.745732  6.506919  6.927283  31.933055  4.550397  9.729851  \n",
       "2      3.724245  3.808439  6.714164  6.931882  32.006562  4.402932  9.038252  \n",
       "3      3.704052  3.994524  7.368853  6.925487  31.904388  4.370460  8.892694  \n",
       "4      3.891015  3.904797  7.045566  6.931257  31.996562  4.317488  8.660254  \n",
       "...         ...       ...       ...       ...        ...       ...       ...  \n",
       "9522   4.135215  3.905804  7.049113  6.913270  31.710093  4.404522  9.045441  \n",
       "9523   4.972927  4.179604  8.083316  6.923058  31.865655  3.966511  7.266361  \n",
       "9524   5.517246  4.029628  7.499333  6.912932  31.704732  4.029628  7.499333  \n",
       "9525   4.795832  4.190412  8.127115  6.928156  31.946987  4.385645  8.960469  \n",
       "9526   4.213075  3.896909  7.017834  6.928401  31.950900  4.153713  7.979348  \n",
       "\n",
       "[9527 rows x 12 columns]"
      ]
     },
     "execution_count": 4,
     "metadata": {},
     "output_type": "execute_result"
    }
   ],
   "source": [
    "x"
   ]
  },
  {
   "cell_type": "markdown",
   "metadata": {},
   "source": [
    "## Performing Feature Selection"
   ]
  },
  {
   "cell_type": "markdown",
   "metadata": {},
   "source": [
    "### Performing Mutual Info"
   ]
  },
  {
   "cell_type": "code",
   "execution_count": 8,
   "metadata": {},
   "outputs": [
    {
     "data": {
      "text/plain": [
       "array([1.16066482, 0.94671904, 0.27537857, 0.11639387, 1.16069129,\n",
       "       1.1580981 , 0.95167558, 0.94804752, 0.27533268, 0.27519508,\n",
       "       0.11489959, 0.11502426])"
      ]
     },
     "execution_count": 8,
     "metadata": {},
     "output_type": "execute_result"
    }
   ],
   "source": [
    "mutual_scores = mutual_info_regression(x, y)\n",
    "mutual_scores"
   ]
  },
  {
   "cell_type": "code",
   "execution_count": 9,
   "metadata": {},
   "outputs": [
    {
     "data": {
      "text/html": [
       "<div>\n",
       "<style scoped>\n",
       "    .dataframe tbody tr th:only-of-type {\n",
       "        vertical-align: middle;\n",
       "    }\n",
       "\n",
       "    .dataframe tbody tr th {\n",
       "        vertical-align: top;\n",
       "    }\n",
       "\n",
       "    .dataframe thead th {\n",
       "        text-align: right;\n",
       "    }\n",
       "</style>\n",
       "<table border=\"1\" class=\"dataframe\">\n",
       "  <thead>\n",
       "    <tr style=\"text-align: right;\">\n",
       "      <th></th>\n",
       "      <th>temperature</th>\n",
       "      <th>exhaust_vacuum</th>\n",
       "      <th>amb_pressure</th>\n",
       "      <th>r_humidity</th>\n",
       "      <th>log_temp</th>\n",
       "      <th>sqrt_temp</th>\n",
       "      <th>log_ev</th>\n",
       "      <th>sqrt_ev</th>\n",
       "      <th>log_ap</th>\n",
       "      <th>sqrt_ap</th>\n",
       "      <th>log_rh</th>\n",
       "      <th>sqrt_rh</th>\n",
       "    </tr>\n",
       "  </thead>\n",
       "  <tbody>\n",
       "    <tr>\n",
       "      <th>0</th>\n",
       "      <td>1.160665</td>\n",
       "      <td>0.946719</td>\n",
       "      <td>0.275379</td>\n",
       "      <td>0.116394</td>\n",
       "      <td>1.160691</td>\n",
       "      <td>1.158098</td>\n",
       "      <td>0.951676</td>\n",
       "      <td>0.948048</td>\n",
       "      <td>0.275333</td>\n",
       "      <td>0.275195</td>\n",
       "      <td>0.1149</td>\n",
       "      <td>0.115024</td>\n",
       "    </tr>\n",
       "  </tbody>\n",
       "</table>\n",
       "</div>"
      ],
      "text/plain": [
       "   temperature  exhaust_vacuum  amb_pressure  r_humidity  log_temp  sqrt_temp  \\\n",
       "0     1.160665        0.946719      0.275379    0.116394  1.160691   1.158098   \n",
       "\n",
       "     log_ev   sqrt_ev    log_ap   sqrt_ap  log_rh   sqrt_rh  \n",
       "0  0.951676  0.948048  0.275333  0.275195  0.1149  0.115024  "
      ]
     },
     "execution_count": 9,
     "metadata": {},
     "output_type": "execute_result"
    }
   ],
   "source": [
    "mutual_info_test = pd.DataFrame(mutual_scores).T\n",
    "mutual_info_test.columns = x.columns\n",
    "\n",
    "mutual_info_test"
   ]
  },
  {
   "cell_type": "markdown",
   "metadata": {},
   "source": [
    "### Performing Tree Based method"
   ]
  },
  {
   "cell_type": "code",
   "execution_count": 11,
   "metadata": {},
   "outputs": [
    {
     "data": {
      "text/html": [
       "<style>#sk-container-id-1 {color: black;background-color: white;}#sk-container-id-1 pre{padding: 0;}#sk-container-id-1 div.sk-toggleable {background-color: white;}#sk-container-id-1 label.sk-toggleable__label {cursor: pointer;display: block;width: 100%;margin-bottom: 0;padding: 0.3em;box-sizing: border-box;text-align: center;}#sk-container-id-1 label.sk-toggleable__label-arrow:before {content: \"▸\";float: left;margin-right: 0.25em;color: #696969;}#sk-container-id-1 label.sk-toggleable__label-arrow:hover:before {color: black;}#sk-container-id-1 div.sk-estimator:hover label.sk-toggleable__label-arrow:before {color: black;}#sk-container-id-1 div.sk-toggleable__content {max-height: 0;max-width: 0;overflow: hidden;text-align: left;background-color: #f0f8ff;}#sk-container-id-1 div.sk-toggleable__content pre {margin: 0.2em;color: black;border-radius: 0.25em;background-color: #f0f8ff;}#sk-container-id-1 input.sk-toggleable__control:checked~div.sk-toggleable__content {max-height: 200px;max-width: 100%;overflow: auto;}#sk-container-id-1 input.sk-toggleable__control:checked~label.sk-toggleable__label-arrow:before {content: \"▾\";}#sk-container-id-1 div.sk-estimator input.sk-toggleable__control:checked~label.sk-toggleable__label {background-color: #d4ebff;}#sk-container-id-1 div.sk-label input.sk-toggleable__control:checked~label.sk-toggleable__label {background-color: #d4ebff;}#sk-container-id-1 input.sk-hidden--visually {border: 0;clip: rect(1px 1px 1px 1px);clip: rect(1px, 1px, 1px, 1px);height: 1px;margin: -1px;overflow: hidden;padding: 0;position: absolute;width: 1px;}#sk-container-id-1 div.sk-estimator {font-family: monospace;background-color: #f0f8ff;border: 1px dotted black;border-radius: 0.25em;box-sizing: border-box;margin-bottom: 0.5em;}#sk-container-id-1 div.sk-estimator:hover {background-color: #d4ebff;}#sk-container-id-1 div.sk-parallel-item::after {content: \"\";width: 100%;border-bottom: 1px solid gray;flex-grow: 1;}#sk-container-id-1 div.sk-label:hover label.sk-toggleable__label {background-color: #d4ebff;}#sk-container-id-1 div.sk-serial::before {content: \"\";position: absolute;border-left: 1px solid gray;box-sizing: border-box;top: 0;bottom: 0;left: 50%;z-index: 0;}#sk-container-id-1 div.sk-serial {display: flex;flex-direction: column;align-items: center;background-color: white;padding-right: 0.2em;padding-left: 0.2em;position: relative;}#sk-container-id-1 div.sk-item {position: relative;z-index: 1;}#sk-container-id-1 div.sk-parallel {display: flex;align-items: stretch;justify-content: center;background-color: white;position: relative;}#sk-container-id-1 div.sk-item::before, #sk-container-id-1 div.sk-parallel-item::before {content: \"\";position: absolute;border-left: 1px solid gray;box-sizing: border-box;top: 0;bottom: 0;left: 50%;z-index: -1;}#sk-container-id-1 div.sk-parallel-item {display: flex;flex-direction: column;z-index: 1;position: relative;background-color: white;}#sk-container-id-1 div.sk-parallel-item:first-child::after {align-self: flex-end;width: 50%;}#sk-container-id-1 div.sk-parallel-item:last-child::after {align-self: flex-start;width: 50%;}#sk-container-id-1 div.sk-parallel-item:only-child::after {width: 0;}#sk-container-id-1 div.sk-dashed-wrapped {border: 1px dashed gray;margin: 0 0.4em 0.5em 0.4em;box-sizing: border-box;padding-bottom: 0.4em;background-color: white;}#sk-container-id-1 div.sk-label label {font-family: monospace;font-weight: bold;display: inline-block;line-height: 1.2em;}#sk-container-id-1 div.sk-label-container {text-align: center;}#sk-container-id-1 div.sk-container {/* jupyter's `normalize.less` sets `[hidden] { display: none; }` but bootstrap.min.css set `[hidden] { display: none !important; }` so we also need the `!important` here to be able to override the default hidden behavior on the sphinx rendered scikit-learn.org. See: https://github.com/scikit-learn/scikit-learn/issues/21755 */display: inline-block !important;position: relative;}#sk-container-id-1 div.sk-text-repr-fallback {display: none;}</style><div id=\"sk-container-id-1\" class=\"sk-top-container\"><div class=\"sk-text-repr-fallback\"><pre>DecisionTreeRegressor()</pre><b>In a Jupyter environment, please rerun this cell to show the HTML representation or trust the notebook. <br />On GitHub, the HTML representation is unable to render, please try loading this page with nbviewer.org.</b></div><div class=\"sk-container\" hidden><div class=\"sk-item\"><div class=\"sk-estimator sk-toggleable\"><input class=\"sk-toggleable__control sk-hidden--visually\" id=\"sk-estimator-id-1\" type=\"checkbox\" checked><label for=\"sk-estimator-id-1\" class=\"sk-toggleable__label sk-toggleable__label-arrow\">DecisionTreeRegressor</label><div class=\"sk-toggleable__content\"><pre>DecisionTreeRegressor()</pre></div></div></div></div></div>"
      ],
      "text/plain": [
       "DecisionTreeRegressor()"
      ]
     },
     "execution_count": 11,
     "metadata": {},
     "output_type": "execute_result"
    }
   ],
   "source": [
    "dt = DecisionTreeRegressor()\n",
    "dt.fit(x,y)"
   ]
  },
  {
   "cell_type": "code",
   "execution_count": 12,
   "metadata": {},
   "outputs": [
    {
     "data": {
      "text/plain": [
       "array([0.08519241, 0.00963103, 0.00728644, 0.00471706, 0.74121238,\n",
       "       0.07802015, 0.01977381, 0.02967347, 0.00658193, 0.00613053,\n",
       "       0.00475293, 0.00702787])"
      ]
     },
     "execution_count": 12,
     "metadata": {},
     "output_type": "execute_result"
    }
   ],
   "source": [
    "dt.feature_importances_"
   ]
  },
  {
   "cell_type": "code",
   "execution_count": null,
   "metadata": {},
   "outputs": [],
   "source": [
    "imp_cols = pd.DataFrame({\n",
    "    'Features' : x.columns,\n",
    "    'MI' : mutual_info_test,\n",
    "    'IG' : dt.feature_importances_\n",
    "})\n",
    "\n",
    "imp_cols"
   ]
  },
  {
   "cell_type": "code",
   "execution_count": null,
   "metadata": {},
   "outputs": [],
   "source": [
    "#imp_cols.to_csv('Feature Selection.csv', index=False)"
   ]
  },
  {
   "cell_type": "markdown",
   "metadata": {},
   "source": [
    "### Compairing All Result"
   ]
  },
  {
   "cell_type": "code",
   "execution_count": null,
   "metadata": {},
   "outputs": [],
   "source": [
    "r = chi_test.T\n",
    "r.columns = ['chi_test']\n",
    "\n",
    "r.sort_values(by='chi_test', ascending=False)"
   ]
  },
  {
   "cell_type": "code",
   "execution_count": null,
   "metadata": {},
   "outputs": [],
   "source": [
    "r2 = rfe_df.T\n",
    "r2.columns = ['rfe']\n",
    "\n",
    "r2.sort_values(by='rfe')"
   ]
  },
  {
   "cell_type": "code",
   "execution_count": null,
   "metadata": {},
   "outputs": [],
   "source": [
    "r.sort_values(by='chi_test', ascending=False).plot(kind='bar')"
   ]
  },
  {
   "cell_type": "code",
   "execution_count": null,
   "metadata": {},
   "outputs": [],
   "source": [
    "r2.sort_values(by='rfe').plot(kind='bar')"
   ]
  },
  {
   "cell_type": "code",
   "execution_count": null,
   "metadata": {},
   "outputs": [],
   "source": [
    "sns.barplot(x = imp_cols.sort_values(by='IG', ascending=False).loc[:,'IG'],\n",
    "            y = imp_cols.sort_values(by='IG', ascending=False).loc[:,'Features'])"
   ]
  },
  {
   "cell_type": "markdown",
   "metadata": {},
   "source": [
    "### Picking Features After Feature Engineering"
   ]
  },
  {
   "cell_type": "code",
   "execution_count": null,
   "metadata": {},
   "outputs": [],
   "source": [
    "ch = pd.read_csv(r'C:\\Users\\Kunal Mallick\\Documents\\GitHub\\Churn_Prediction\\Data Preprocessing & EDA\\eda.csv')\n",
    "\n",
    "ch.columns"
   ]
  },
  {
   "cell_type": "markdown",
   "metadata": {},
   "source": [
    "#### Filtering Columns"
   ]
  },
  {
   "cell_type": "code",
   "execution_count": null,
   "metadata": {},
   "outputs": [],
   "source": [
    "x = ch.iloc[:,[1,2,3,5,7,8,14,70,71,72,73]]\n",
    "\n",
    "x"
   ]
  },
  {
   "cell_type": "markdown",
   "metadata": {},
   "source": [
    "## Normalizing The Dataset"
   ]
  },
  {
   "cell_type": "code",
   "execution_count": null,
   "metadata": {},
   "outputs": [],
   "source": [
    "sc = StandardScaler()\n",
    "xtrain  = pd.DataFrame(sc.fit_transform(x), columns=x.columns)"
   ]
  },
  {
   "cell_type": "code",
   "execution_count": null,
   "metadata": {},
   "outputs": [],
   "source": [
    "xtrain"
   ]
  },
  {
   "cell_type": "code",
   "execution_count": null,
   "metadata": {},
   "outputs": [],
   "source": [
    "xtest = pd.DataFrame(sc.fit_transform(xtest_raw), columns=xtest_raw.columns)"
   ]
  },
  {
   "cell_type": "code",
   "execution_count": null,
   "metadata": {},
   "outputs": [],
   "source": [
    "xtest"
   ]
  },
  {
   "cell_type": "markdown",
   "metadata": {},
   "source": [
    "## Performing Dimension Reductionality"
   ]
  },
  {
   "cell_type": "markdown",
   "metadata": {},
   "source": [
    "### Creating PCA With Default Value"
   ]
  },
  {
   "cell_type": "code",
   "execution_count": null,
   "metadata": {},
   "outputs": [],
   "source": [
    "pca_def = PCA()\n",
    "pcs_def = pca_def.fit_transform(xtrain)\n",
    "pcs_def"
   ]
  },
  {
   "cell_type": "code",
   "execution_count": null,
   "metadata": {},
   "outputs": [],
   "source": [
    "pca_def.explained_variance_ratio_"
   ]
  },
  {
   "cell_type": "code",
   "execution_count": null,
   "metadata": {},
   "outputs": [],
   "source": [
    "np.cumsum(pca_def.explained_variance_ratio_)"
   ]
  },
  {
   "attachments": {},
   "cell_type": "markdown",
   "metadata": {},
   "source": [
    "- As it is clear that 99% of the data came from the first column alone, we will use n component 8."
   ]
  },
  {
   "attachments": {},
   "cell_type": "markdown",
   "metadata": {},
   "source": [
    "### Creating PCA With 3 Component For Xtrain"
   ]
  },
  {
   "cell_type": "code",
   "execution_count": null,
   "metadata": {},
   "outputs": [],
   "source": [
    "pca_8 = PCA(n_components = 8)\n",
    "pcs_8 = pca_8.fit_transform(xtrain)\n",
    "pcs_8"
   ]
  },
  {
   "cell_type": "markdown",
   "metadata": {},
   "source": [
    "#### Creating DataFrame"
   ]
  },
  {
   "cell_type": "code",
   "execution_count": null,
   "metadata": {},
   "outputs": [],
   "source": [
    "def col_pc_n(n):\n",
    "\n",
    "    col = []\n",
    "    p = 'pc'\n",
    "\n",
    "    for i in range(0,n):\n",
    "        col_n = p + str(i)\n",
    "        col.append(col_n)\n",
    "\n",
    "    return col"
   ]
  },
  {
   "cell_type": "code",
   "execution_count": null,
   "metadata": {},
   "outputs": [],
   "source": [
    "wn_scaled_pca = pd.DataFrame(pcs_8, columns=col_pc_n(8))\n",
    "\n",
    "wn_scaled_pca"
   ]
  },
  {
   "attachments": {},
   "cell_type": "markdown",
   "metadata": {},
   "source": [
    "### Creating PCA With 3 Component For Xtest"
   ]
  },
  {
   "cell_type": "code",
   "execution_count": null,
   "metadata": {},
   "outputs": [],
   "source": [
    "pca_8 = PCA(n_components = 8)\n",
    "pcs_8_xtest = pca_8.fit_transform(xtest)\n",
    "pcs_8_xtest"
   ]
  },
  {
   "cell_type": "markdown",
   "metadata": {},
   "source": [
    "#### Creating DataFrame"
   ]
  },
  {
   "cell_type": "code",
   "execution_count": null,
   "metadata": {},
   "outputs": [],
   "source": [
    "def col_pc_n(n):\n",
    "\n",
    "    col = []\n",
    "    p = 'pc'\n",
    "\n",
    "    for i in range(0,n):\n",
    "        col_n = p + str(i)\n",
    "        col.append(col_n)\n",
    "\n",
    "    return col"
   ]
  },
  {
   "cell_type": "code",
   "execution_count": null,
   "metadata": {},
   "outputs": [],
   "source": [
    "wn_scaled_pca_xtest = pd.DataFrame(pcs_8_xtest, columns=col_pc_n(8))\n",
    "\n",
    "wn_scaled_pca_xtest"
   ]
  },
  {
   "cell_type": "markdown",
   "metadata": {},
   "source": [
    "## Exporting Dataframe"
   ]
  },
  {
   "cell_type": "code",
   "execution_count": null,
   "metadata": {},
   "outputs": [],
   "source": [
    "wn_scaled_pca.to_csv('xtrain.csv', index=False)\n",
    "wn_scaled_pca_xtest.to_csv('xtest.csv', index=False)\n",
    "ytrain.to_csv('ytrain.csv', index=False)\n",
    "ytest.to_csv('ytest.csv', index=False)"
   ]
  }
 ],
 "metadata": {
  "kernelspec": {
   "display_name": "base",
   "language": "python",
   "name": "python3"
  },
  "language_info": {
   "codemirror_mode": {
    "name": "ipython",
    "version": 3
   },
   "file_extension": ".py",
   "mimetype": "text/x-python",
   "name": "python",
   "nbconvert_exporter": "python",
   "pygments_lexer": "ipython3",
   "version": "3.11.3"
  },
  "orig_nbformat": 4
 },
 "nbformat": 4,
 "nbformat_minor": 2
}
