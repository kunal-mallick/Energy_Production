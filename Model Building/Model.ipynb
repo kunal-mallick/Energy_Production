{
 "cells": [
  {
   "attachments": {},
   "cell_type": "markdown",
   "metadata": {},
   "source": [
    "# Model Building"
   ]
  },
  {
   "attachments": {},
   "cell_type": "markdown",
   "metadata": {},
   "source": [
    "## Attaching Resources"
   ]
  },
  {
   "attachments": {},
   "cell_type": "markdown",
   "metadata": {},
   "source": [
    "### Importing Necessary Libraries"
   ]
  },
  {
   "cell_type": "code",
   "execution_count": 77,
   "metadata": {},
   "outputs": [
    {
     "data": {
      "text/plain": [
       "<Figure size 3750x2000 with 0 Axes>"
      ]
     },
     "metadata": {},
     "output_type": "display_data"
    }
   ],
   "source": [
    "import math as mt\n",
    "import numpy as np\n",
    "import pandas as pd\n",
    "import matplotlib.pyplot as plt\n",
    "import seaborn as sns\n",
    "from sklearn.model_selection import KFold, cross_val_score\n",
    "import statsmodels.formula.api as smf\n",
    "from sklearn.linear_model import LinearRegression, Lasso, Ridge, ElasticNet\n",
    "from sklearn.neighbors import KNeighborsRegressor\n",
    "from sklearn.tree import DecisionTreeRegressor\n",
    "from sklearn.ensemble import AdaBoostRegressor, RandomForestRegressor, GradientBoostingRegressor, BaggingRegressor\n",
    "import tensorflow as tf\n",
    "from tensorflow.keras import Sequential\n",
    "from tensorflow.keras.layers import Dense, Dropout\n",
    "from tensorflow.keras.callbacks import EarlyStopping\n",
    "import pickle\n",
    "\n",
    "from sklearn.metrics import r2_score, mean_absolute_error, mean_squared_error\n",
    "from sklearn.model_selection import GridSearchCV, RandomizedSearchCV\n",
    "import statsmodels.api as sm\n",
    "\n",
    "import warnings\n",
    "\n",
    "warnings.filterwarnings('ignore')\n",
    "plt.rcParams['figure.figsize'] = (15,8)\n",
    "plt.rcParams['figure.dpi'] = 250\n",
    "sns.set_style(style='darkgrid')\n",
    "plt.tight_layout()\n",
    "%matplotlib inline"
   ]
  },
  {
   "attachments": {},
   "cell_type": "markdown",
   "metadata": {},
   "source": [
    "### Adding Dataset"
   ]
  },
  {
   "cell_type": "code",
   "execution_count": 2,
   "metadata": {},
   "outputs": [
    {
     "data": {
      "text/html": [
       "<div>\n",
       "<style scoped>\n",
       "    .dataframe tbody tr th:only-of-type {\n",
       "        vertical-align: middle;\n",
       "    }\n",
       "\n",
       "    .dataframe tbody tr th {\n",
       "        vertical-align: top;\n",
       "    }\n",
       "\n",
       "    .dataframe thead th {\n",
       "        text-align: right;\n",
       "    }\n",
       "</style>\n",
       "<table border=\"1\" class=\"dataframe\">\n",
       "  <thead>\n",
       "    <tr style=\"text-align: right;\">\n",
       "      <th></th>\n",
       "      <th>log_temp</th>\n",
       "      <th>amb_pressure</th>\n",
       "      <th>log_rh</th>\n",
       "    </tr>\n",
       "  </thead>\n",
       "  <tbody>\n",
       "    <tr>\n",
       "      <th>0</th>\n",
       "      <td>2.260721</td>\n",
       "      <td>1017.01</td>\n",
       "      <td>4.096010</td>\n",
       "    </tr>\n",
       "    <tr>\n",
       "      <th>1</th>\n",
       "      <td>2.488234</td>\n",
       "      <td>1019.72</td>\n",
       "      <td>4.550397</td>\n",
       "    </tr>\n",
       "    <tr>\n",
       "      <th>2</th>\n",
       "      <td>2.629728</td>\n",
       "      <td>1024.42</td>\n",
       "      <td>4.402932</td>\n",
       "    </tr>\n",
       "    <tr>\n",
       "      <th>3</th>\n",
       "      <td>2.618855</td>\n",
       "      <td>1017.89</td>\n",
       "      <td>4.370460</td>\n",
       "    </tr>\n",
       "    <tr>\n",
       "      <th>4</th>\n",
       "      <td>2.717340</td>\n",
       "      <td>1023.78</td>\n",
       "      <td>4.317488</td>\n",
       "    </tr>\n",
       "    <tr>\n",
       "      <th>...</th>\n",
       "      <td>...</td>\n",
       "      <td>...</td>\n",
       "      <td>...</td>\n",
       "    </tr>\n",
       "    <tr>\n",
       "      <th>9522</th>\n",
       "      <td>2.839078</td>\n",
       "      <td>1005.53</td>\n",
       "      <td>4.404522</td>\n",
       "    </tr>\n",
       "    <tr>\n",
       "      <th>9523</th>\n",
       "      <td>3.208017</td>\n",
       "      <td>1015.42</td>\n",
       "      <td>3.966511</td>\n",
       "    </tr>\n",
       "    <tr>\n",
       "      <th>9524</th>\n",
       "      <td>3.415758</td>\n",
       "      <td>1005.19</td>\n",
       "      <td>4.029628</td>\n",
       "    </tr>\n",
       "    <tr>\n",
       "      <th>9525</th>\n",
       "      <td>3.135494</td>\n",
       "      <td>1020.61</td>\n",
       "      <td>4.385645</td>\n",
       "    </tr>\n",
       "    <tr>\n",
       "      <th>9526</th>\n",
       "      <td>2.876386</td>\n",
       "      <td>1020.86</td>\n",
       "      <td>4.153713</td>\n",
       "    </tr>\n",
       "  </tbody>\n",
       "</table>\n",
       "<p>9527 rows × 3 columns</p>\n",
       "</div>"
      ],
      "text/plain": [
       "      log_temp  amb_pressure    log_rh\n",
       "0     2.260721       1017.01  4.096010\n",
       "1     2.488234       1019.72  4.550397\n",
       "2     2.629728       1024.42  4.402932\n",
       "3     2.618855       1017.89  4.370460\n",
       "4     2.717340       1023.78  4.317488\n",
       "...        ...           ...       ...\n",
       "9522  2.839078       1005.53  4.404522\n",
       "9523  3.208017       1015.42  3.966511\n",
       "9524  3.415758       1005.19  4.029628\n",
       "9525  3.135494       1020.61  4.385645\n",
       "9526  2.876386       1020.86  4.153713\n",
       "\n",
       "[9527 rows x 3 columns]"
      ]
     },
     "execution_count": 2,
     "metadata": {},
     "output_type": "execute_result"
    }
   ],
   "source": [
    "x = pd.read_csv(r'C:\\Users\\Kunal\\Documents\\GitHub\\Energy_Production\\Feature Engineering & Feature Extraction\\x.csv')\n",
    "y = pd.read_csv(r'C:\\Users\\Kunal\\Documents\\GitHub\\Energy_Production\\Feature Engineering & Feature Extraction\\y.csv')\n",
    "\n",
    "x"
   ]
  },
  {
   "cell_type": "markdown",
   "metadata": {},
   "source": [
    "## K-fold Cross Validation"
   ]
  },
  {
   "cell_type": "code",
   "execution_count": 3,
   "metadata": {},
   "outputs": [
    {
     "name": "stdout",
     "output_type": "stream",
     "text": [
      "Creating Model With KNeighborsRegressor()\n",
      "Testing Accuracy of are Model is : 0.9157528903185691\n",
      "Printing All Training Model Accuracy : \n",
      "[0.92069004 0.91360863 0.91012276 0.91873265 0.91385183 0.91267071\n",
      " 0.92695976 0.91640033 0.921656   0.9028362 ]\n",
      "\n",
      "\n",
      "Creating Model With DecisionTreeRegressor()\n",
      "Testing Accuracy of are Model is : 0.8823672724486211\n",
      "Printing All Training Model Accuracy : \n",
      "[0.8829539  0.87856674 0.87630948 0.89248086 0.88204547 0.87951528\n",
      " 0.89134519 0.87343822 0.89204397 0.87497362]\n",
      "\n",
      "\n",
      "Creating Model With RandomForestRegressor()\n",
      "Testing Accuracy of are Model is : 0.933897053303534\n",
      "Printing All Training Model Accuracy : \n",
      "[0.9375471  0.93063362 0.92903409 0.93544874 0.93588148 0.92908607\n",
      " 0.943171   0.93913003 0.93697602 0.92206239]\n",
      "\n",
      "\n",
      "Creating Model With LinearRegression()\n",
      "Testing Accuracy of are Model is : 0.8847005624953266\n",
      "Printing All Training Model Accuracy : \n",
      "[0.89808601 0.86679834 0.87145199 0.8805197  0.88528904 0.8871345\n",
      " 0.89592553 0.88480407 0.89826946 0.87872698]\n",
      "\n",
      "\n",
      "Creating Model With Lasso()\n",
      "Testing Accuracy of are Model is : 0.8602540218461716\n",
      "Printing All Training Model Accuracy : \n",
      "[0.86715375 0.84843124 0.85041776 0.86318565 0.8616832  0.85267345\n",
      " 0.86926023 0.8653363  0.87072507 0.85367357]\n",
      "\n",
      "\n",
      "Creating Model With Ridge()\n",
      "Testing Accuracy of are Model is : 0.8847003042869787\n",
      "Printing All Training Model Accuracy : \n",
      "[0.8980432  0.86684046 0.87146419 0.88055176 0.88529683 0.88707736\n",
      " 0.89593237 0.88482992 0.89824636 0.87872058]\n",
      "\n",
      "\n",
      "Creating Model With ElasticNet()\n",
      "Testing Accuracy of are Model is : 0.5122328739407621\n",
      "Printing All Training Model Accuracy : \n",
      "[0.52968425 0.50768243 0.51709277 0.53159768 0.49468375 0.49416765\n",
      " 0.48470283 0.53262312 0.51517753 0.51491672]\n",
      "\n",
      "\n"
     ]
    }
   ],
   "source": [
    "kf = KFold(n_splits=10)\n",
    "\n",
    "mod = [KNeighborsRegressor(), DecisionTreeRegressor(), RandomForestRegressor(), LinearRegression(), Lasso(), Ridge(), ElasticNet()]\n",
    "\n",
    "for i in range(len(mod)):\n",
    "    kf_scores = cross_val_score(mod[i],x,y,cv=kf)\n",
    "    print('Creating Model With ' + str(mod[i]))\n",
    "    print('Testing Accuracy of are Model is : ' + str(kf_scores.mean()))\n",
    "    print('Printing All Training Model Accuracy : \\n' + str(kf_scores))\n",
    "    print('\\n')"
   ]
  },
  {
   "cell_type": "markdown",
   "metadata": {},
   "source": [
    "## Splitting The Data Into Traning and Testing Dataset"
   ]
  },
  {
   "cell_type": "code",
   "execution_count": 4,
   "metadata": {},
   "outputs": [],
   "source": [
    "xtrain = x.drop(x.index[5718:6671])\n",
    "xtest = x.iloc[5718:6671,:]"
   ]
  },
  {
   "cell_type": "code",
   "execution_count": 5,
   "metadata": {},
   "outputs": [
    {
     "data": {
      "text/html": [
       "<div>\n",
       "<style scoped>\n",
       "    .dataframe tbody tr th:only-of-type {\n",
       "        vertical-align: middle;\n",
       "    }\n",
       "\n",
       "    .dataframe tbody tr th {\n",
       "        vertical-align: top;\n",
       "    }\n",
       "\n",
       "    .dataframe thead th {\n",
       "        text-align: right;\n",
       "    }\n",
       "</style>\n",
       "<table border=\"1\" class=\"dataframe\">\n",
       "  <thead>\n",
       "    <tr style=\"text-align: right;\">\n",
       "      <th></th>\n",
       "      <th>log_temp</th>\n",
       "      <th>amb_pressure</th>\n",
       "      <th>log_rh</th>\n",
       "    </tr>\n",
       "  </thead>\n",
       "  <tbody>\n",
       "    <tr>\n",
       "      <th>0</th>\n",
       "      <td>2.260721</td>\n",
       "      <td>1017.01</td>\n",
       "      <td>4.096010</td>\n",
       "    </tr>\n",
       "    <tr>\n",
       "      <th>1</th>\n",
       "      <td>2.488234</td>\n",
       "      <td>1019.72</td>\n",
       "      <td>4.550397</td>\n",
       "    </tr>\n",
       "    <tr>\n",
       "      <th>2</th>\n",
       "      <td>2.629728</td>\n",
       "      <td>1024.42</td>\n",
       "      <td>4.402932</td>\n",
       "    </tr>\n",
       "    <tr>\n",
       "      <th>3</th>\n",
       "      <td>2.618855</td>\n",
       "      <td>1017.89</td>\n",
       "      <td>4.370460</td>\n",
       "    </tr>\n",
       "    <tr>\n",
       "      <th>4</th>\n",
       "      <td>2.717340</td>\n",
       "      <td>1023.78</td>\n",
       "      <td>4.317488</td>\n",
       "    </tr>\n",
       "    <tr>\n",
       "      <th>...</th>\n",
       "      <td>...</td>\n",
       "      <td>...</td>\n",
       "      <td>...</td>\n",
       "    </tr>\n",
       "    <tr>\n",
       "      <th>9522</th>\n",
       "      <td>2.839078</td>\n",
       "      <td>1005.53</td>\n",
       "      <td>4.404522</td>\n",
       "    </tr>\n",
       "    <tr>\n",
       "      <th>9523</th>\n",
       "      <td>3.208017</td>\n",
       "      <td>1015.42</td>\n",
       "      <td>3.966511</td>\n",
       "    </tr>\n",
       "    <tr>\n",
       "      <th>9524</th>\n",
       "      <td>3.415758</td>\n",
       "      <td>1005.19</td>\n",
       "      <td>4.029628</td>\n",
       "    </tr>\n",
       "    <tr>\n",
       "      <th>9525</th>\n",
       "      <td>3.135494</td>\n",
       "      <td>1020.61</td>\n",
       "      <td>4.385645</td>\n",
       "    </tr>\n",
       "    <tr>\n",
       "      <th>9526</th>\n",
       "      <td>2.876386</td>\n",
       "      <td>1020.86</td>\n",
       "      <td>4.153713</td>\n",
       "    </tr>\n",
       "  </tbody>\n",
       "</table>\n",
       "<p>8574 rows × 3 columns</p>\n",
       "</div>"
      ],
      "text/plain": [
       "      log_temp  amb_pressure    log_rh\n",
       "0     2.260721       1017.01  4.096010\n",
       "1     2.488234       1019.72  4.550397\n",
       "2     2.629728       1024.42  4.402932\n",
       "3     2.618855       1017.89  4.370460\n",
       "4     2.717340       1023.78  4.317488\n",
       "...        ...           ...       ...\n",
       "9522  2.839078       1005.53  4.404522\n",
       "9523  3.208017       1015.42  3.966511\n",
       "9524  3.415758       1005.19  4.029628\n",
       "9525  3.135494       1020.61  4.385645\n",
       "9526  2.876386       1020.86  4.153713\n",
       "\n",
       "[8574 rows x 3 columns]"
      ]
     },
     "execution_count": 5,
     "metadata": {},
     "output_type": "execute_result"
    }
   ],
   "source": [
    "xtrain"
   ]
  },
  {
   "cell_type": "code",
   "execution_count": 6,
   "metadata": {},
   "outputs": [
    {
     "data": {
      "text/html": [
       "<div>\n",
       "<style scoped>\n",
       "    .dataframe tbody tr th:only-of-type {\n",
       "        vertical-align: middle;\n",
       "    }\n",
       "\n",
       "    .dataframe tbody tr th {\n",
       "        vertical-align: top;\n",
       "    }\n",
       "\n",
       "    .dataframe thead th {\n",
       "        text-align: right;\n",
       "    }\n",
       "</style>\n",
       "<table border=\"1\" class=\"dataframe\">\n",
       "  <thead>\n",
       "    <tr style=\"text-align: right;\">\n",
       "      <th></th>\n",
       "      <th>log_temp</th>\n",
       "      <th>amb_pressure</th>\n",
       "      <th>log_rh</th>\n",
       "    </tr>\n",
       "  </thead>\n",
       "  <tbody>\n",
       "    <tr>\n",
       "      <th>5718</th>\n",
       "      <td>2.326302</td>\n",
       "      <td>1019.73</td>\n",
       "      <td>4.407207</td>\n",
       "    </tr>\n",
       "    <tr>\n",
       "      <th>5719</th>\n",
       "      <td>3.116622</td>\n",
       "      <td>1013.49</td>\n",
       "      <td>4.401952</td>\n",
       "    </tr>\n",
       "    <tr>\n",
       "      <th>5720</th>\n",
       "      <td>3.089223</td>\n",
       "      <td>1016.72</td>\n",
       "      <td>4.284965</td>\n",
       "    </tr>\n",
       "    <tr>\n",
       "      <th>5721</th>\n",
       "      <td>2.228939</td>\n",
       "      <td>1022.72</td>\n",
       "      <td>4.307976</td>\n",
       "    </tr>\n",
       "    <tr>\n",
       "      <th>5722</th>\n",
       "      <td>3.296577</td>\n",
       "      <td>1000.48</td>\n",
       "      <td>4.475745</td>\n",
       "    </tr>\n",
       "    <tr>\n",
       "      <th>...</th>\n",
       "      <td>...</td>\n",
       "      <td>...</td>\n",
       "      <td>...</td>\n",
       "    </tr>\n",
       "    <tr>\n",
       "      <th>6666</th>\n",
       "      <td>3.030617</td>\n",
       "      <td>1010.26</td>\n",
       "      <td>4.248067</td>\n",
       "    </tr>\n",
       "    <tr>\n",
       "      <th>6667</th>\n",
       "      <td>2.527327</td>\n",
       "      <td>1016.08</td>\n",
       "      <td>4.233237</td>\n",
       "    </tr>\n",
       "    <tr>\n",
       "      <th>6668</th>\n",
       "      <td>3.369018</td>\n",
       "      <td>1011.10</td>\n",
       "      <td>3.939444</td>\n",
       "    </tr>\n",
       "    <tr>\n",
       "      <th>6669</th>\n",
       "      <td>2.507157</td>\n",
       "      <td>1007.75</td>\n",
       "      <td>4.522006</td>\n",
       "    </tr>\n",
       "    <tr>\n",
       "      <th>6670</th>\n",
       "      <td>1.686399</td>\n",
       "      <td>1011.45</td>\n",
       "      <td>4.520048</td>\n",
       "    </tr>\n",
       "  </tbody>\n",
       "</table>\n",
       "<p>953 rows × 3 columns</p>\n",
       "</div>"
      ],
      "text/plain": [
       "      log_temp  amb_pressure    log_rh\n",
       "5718  2.326302       1019.73  4.407207\n",
       "5719  3.116622       1013.49  4.401952\n",
       "5720  3.089223       1016.72  4.284965\n",
       "5721  2.228939       1022.72  4.307976\n",
       "5722  3.296577       1000.48  4.475745\n",
       "...        ...           ...       ...\n",
       "6666  3.030617       1010.26  4.248067\n",
       "6667  2.527327       1016.08  4.233237\n",
       "6668  3.369018       1011.10  3.939444\n",
       "6669  2.507157       1007.75  4.522006\n",
       "6670  1.686399       1011.45  4.520048\n",
       "\n",
       "[953 rows x 3 columns]"
      ]
     },
     "execution_count": 6,
     "metadata": {},
     "output_type": "execute_result"
    }
   ],
   "source": [
    "xtest"
   ]
  },
  {
   "cell_type": "code",
   "execution_count": 7,
   "metadata": {},
   "outputs": [],
   "source": [
    "ytrain = y.drop(x.index[5718:6671]) \n",
    "ytest = y .iloc[5718:6671,:]"
   ]
  },
  {
   "cell_type": "code",
   "execution_count": 8,
   "metadata": {},
   "outputs": [
    {
     "data": {
      "text/html": [
       "<div>\n",
       "<style scoped>\n",
       "    .dataframe tbody tr th:only-of-type {\n",
       "        vertical-align: middle;\n",
       "    }\n",
       "\n",
       "    .dataframe tbody tr th {\n",
       "        vertical-align: top;\n",
       "    }\n",
       "\n",
       "    .dataframe thead th {\n",
       "        text-align: right;\n",
       "    }\n",
       "</style>\n",
       "<table border=\"1\" class=\"dataframe\">\n",
       "  <thead>\n",
       "    <tr style=\"text-align: right;\">\n",
       "      <th></th>\n",
       "      <th>energy_production</th>\n",
       "    </tr>\n",
       "  </thead>\n",
       "  <tbody>\n",
       "    <tr>\n",
       "      <th>0</th>\n",
       "      <td>481.30</td>\n",
       "    </tr>\n",
       "    <tr>\n",
       "      <th>1</th>\n",
       "      <td>465.36</td>\n",
       "    </tr>\n",
       "    <tr>\n",
       "      <th>2</th>\n",
       "      <td>465.48</td>\n",
       "    </tr>\n",
       "    <tr>\n",
       "      <th>3</th>\n",
       "      <td>467.05</td>\n",
       "    </tr>\n",
       "    <tr>\n",
       "      <th>4</th>\n",
       "      <td>463.58</td>\n",
       "    </tr>\n",
       "    <tr>\n",
       "      <th>...</th>\n",
       "      <td>...</td>\n",
       "    </tr>\n",
       "    <tr>\n",
       "      <th>9522</th>\n",
       "      <td>457.32</td>\n",
       "    </tr>\n",
       "    <tr>\n",
       "      <th>9523</th>\n",
       "      <td>446.92</td>\n",
       "    </tr>\n",
       "    <tr>\n",
       "      <th>9524</th>\n",
       "      <td>429.34</td>\n",
       "    </tr>\n",
       "    <tr>\n",
       "      <th>9525</th>\n",
       "      <td>421.57</td>\n",
       "    </tr>\n",
       "    <tr>\n",
       "      <th>9526</th>\n",
       "      <td>454.41</td>\n",
       "    </tr>\n",
       "  </tbody>\n",
       "</table>\n",
       "<p>8574 rows × 1 columns</p>\n",
       "</div>"
      ],
      "text/plain": [
       "      energy_production\n",
       "0                481.30\n",
       "1                465.36\n",
       "2                465.48\n",
       "3                467.05\n",
       "4                463.58\n",
       "...                 ...\n",
       "9522             457.32\n",
       "9523             446.92\n",
       "9524             429.34\n",
       "9525             421.57\n",
       "9526             454.41\n",
       "\n",
       "[8574 rows x 1 columns]"
      ]
     },
     "execution_count": 8,
     "metadata": {},
     "output_type": "execute_result"
    }
   ],
   "source": [
    "ytrain"
   ]
  },
  {
   "cell_type": "code",
   "execution_count": 9,
   "metadata": {},
   "outputs": [
    {
     "data": {
      "text/html": [
       "<div>\n",
       "<style scoped>\n",
       "    .dataframe tbody tr th:only-of-type {\n",
       "        vertical-align: middle;\n",
       "    }\n",
       "\n",
       "    .dataframe tbody tr th {\n",
       "        vertical-align: top;\n",
       "    }\n",
       "\n",
       "    .dataframe thead th {\n",
       "        text-align: right;\n",
       "    }\n",
       "</style>\n",
       "<table border=\"1\" class=\"dataframe\">\n",
       "  <thead>\n",
       "    <tr style=\"text-align: right;\">\n",
       "      <th></th>\n",
       "      <th>energy_production</th>\n",
       "    </tr>\n",
       "  </thead>\n",
       "  <tbody>\n",
       "    <tr>\n",
       "      <th>5718</th>\n",
       "      <td>479.78</td>\n",
       "    </tr>\n",
       "    <tr>\n",
       "      <th>5719</th>\n",
       "      <td>443.58</td>\n",
       "    </tr>\n",
       "    <tr>\n",
       "      <th>5720</th>\n",
       "      <td>452.48</td>\n",
       "    </tr>\n",
       "    <tr>\n",
       "      <th>5721</th>\n",
       "      <td>482.55</td>\n",
       "    </tr>\n",
       "    <tr>\n",
       "      <th>5722</th>\n",
       "      <td>438.33</td>\n",
       "    </tr>\n",
       "    <tr>\n",
       "      <th>...</th>\n",
       "      <td>...</td>\n",
       "    </tr>\n",
       "    <tr>\n",
       "      <th>6666</th>\n",
       "      <td>455.69</td>\n",
       "    </tr>\n",
       "    <tr>\n",
       "      <th>6667</th>\n",
       "      <td>477.18</td>\n",
       "    </tr>\n",
       "    <tr>\n",
       "      <th>6668</th>\n",
       "      <td>442.58</td>\n",
       "    </tr>\n",
       "    <tr>\n",
       "      <th>6669</th>\n",
       "      <td>467.10</td>\n",
       "    </tr>\n",
       "    <tr>\n",
       "      <th>6670</th>\n",
       "      <td>485.86</td>\n",
       "    </tr>\n",
       "  </tbody>\n",
       "</table>\n",
       "<p>953 rows × 1 columns</p>\n",
       "</div>"
      ],
      "text/plain": [
       "      energy_production\n",
       "5718             479.78\n",
       "5719             443.58\n",
       "5720             452.48\n",
       "5721             482.55\n",
       "5722             438.33\n",
       "...                 ...\n",
       "6666             455.69\n",
       "6667             477.18\n",
       "6668             442.58\n",
       "6669             467.10\n",
       "6670             485.86\n",
       "\n",
       "[953 rows x 1 columns]"
      ]
     },
     "execution_count": 9,
     "metadata": {},
     "output_type": "execute_result"
    }
   ],
   "source": [
    "ytest"
   ]
  },
  {
   "attachments": {},
   "cell_type": "markdown",
   "metadata": {},
   "source": [
    "## Preparing Model From The Dataset"
   ]
  },
  {
   "attachments": {},
   "cell_type": "markdown",
   "metadata": {},
   "source": [
    "### Picking Model Lowest Training And Testing Difference"
   ]
  },
  {
   "cell_type": "code",
   "execution_count": 10,
   "metadata": {},
   "outputs": [],
   "source": [
    "def predict(model):\n",
    "    print('Creating Model With ' + str(model))\n",
    "    model.fit(xtrain,ytrain)\n",
    "    train_pred = model.predict(xtrain)\n",
    "    print('Training Accuracy of are Model is : ' + str(round(r2_score(ytrain, train_pred),2)) + '%')\n",
    "\n",
    "    test_pred = model.predict(xtest)\n",
    "    print('Training Accuracy of are Model is : ' + str(round(r2_score(ytest, test_pred),2)) + '%')\n",
    "\n",
    "    print('Mean Absolute Error of are Model is : ' + str(round(mean_absolute_error(ytest, test_pred), 4)))\n",
    "    print('\\n')"
   ]
  },
  {
   "cell_type": "code",
   "execution_count": 11,
   "metadata": {},
   "outputs": [
    {
     "name": "stdout",
     "output_type": "stream",
     "text": [
      "Creating Model With LinearRegression()\n",
      "Training Accuracy of are Model is : 0.88%\n",
      "Training Accuracy of are Model is : 0.9%\n",
      "Mean Absolute Error of are Model is : 4.5012\n",
      "\n",
      "\n",
      "Creating Model With KNeighborsRegressor()\n",
      "Training Accuracy of are Model is : 0.94%\n",
      "Training Accuracy of are Model is : 0.93%\n",
      "Mean Absolute Error of are Model is : 3.6667\n",
      "\n",
      "\n",
      "Creating Model With DecisionTreeRegressor()\n",
      "Training Accuracy of are Model is : 1.0%\n",
      "Training Accuracy of are Model is : 0.89%\n",
      "Mean Absolute Error of are Model is : 4.3226\n",
      "\n",
      "\n",
      "Creating Model With RandomForestRegressor()\n"
     ]
    },
    {
     "name": "stdout",
     "output_type": "stream",
     "text": [
      "Training Accuracy of are Model is : 0.99%\n",
      "Training Accuracy of are Model is : 0.94%\n",
      "Mean Absolute Error of are Model is : 3.2718\n",
      "\n",
      "\n",
      "Creating Model With GradientBoostingRegressor()\n",
      "Training Accuracy of are Model is : 0.94%\n",
      "Training Accuracy of are Model is : 0.94%\n",
      "Mean Absolute Error of are Model is : 3.4633\n",
      "\n",
      "\n",
      "Creating Model With Lasso()\n",
      "Training Accuracy of are Model is : 0.86%\n",
      "Training Accuracy of are Model is : 0.87%\n",
      "Mean Absolute Error of are Model is : 5.188\n",
      "\n",
      "\n",
      "Creating Model With Ridge()\n",
      "Training Accuracy of are Model is : 0.88%\n",
      "Training Accuracy of are Model is : 0.9%\n",
      "Mean Absolute Error of are Model is : 4.5025\n",
      "\n",
      "\n",
      "Creating Model With ElasticNet()\n",
      "Training Accuracy of are Model is : 0.51%\n",
      "Training Accuracy of are Model is : 0.48%\n",
      "Mean Absolute Error of are Model is : 10.3506\n",
      "\n",
      "\n"
     ]
    }
   ],
   "source": [
    "models = [ LinearRegression(), KNeighborsRegressor(), DecisionTreeRegressor(), RandomForestRegressor(),GradientBoostingRegressor(), Lasso(), Ridge(), ElasticNet()]\n",
    "\n",
    "for i in range(len(models)):\n",
    "    predict(models[i])"
   ]
  },
  {
   "attachments": {},
   "cell_type": "markdown",
   "metadata": {},
   "source": [
    "### Performing Hyperparameter Tuning"
   ]
  },
  {
   "cell_type": "markdown",
   "metadata": {},
   "source": [
    "#### Tuning Decision Tree Regressor"
   ]
  },
  {
   "cell_type": "code",
   "execution_count": 12,
   "metadata": {},
   "outputs": [],
   "source": [
    "params = {\n",
    "    'criterion' : [\"squared_error\", \"friedman_mse\", \"absolute_error\"],\n",
    "    'max_depth' : [1,2,3,4,5,6],\n",
    "    'min_samples_split' : [4,6,8,10,12],\n",
    "    'max_leaf_nodes' : [8,10,12,14,16,18],\n",
    "    'min_samples_leaf' : [1,2,3,4,5]\n",
    "}"
   ]
  },
  {
   "cell_type": "code",
   "execution_count": 13,
   "metadata": {},
   "outputs": [
    {
     "data": {
      "text/html": [
       "<style>#sk-container-id-1 {color: black;background-color: white;}#sk-container-id-1 pre{padding: 0;}#sk-container-id-1 div.sk-toggleable {background-color: white;}#sk-container-id-1 label.sk-toggleable__label {cursor: pointer;display: block;width: 100%;margin-bottom: 0;padding: 0.3em;box-sizing: border-box;text-align: center;}#sk-container-id-1 label.sk-toggleable__label-arrow:before {content: \"▸\";float: left;margin-right: 0.25em;color: #696969;}#sk-container-id-1 label.sk-toggleable__label-arrow:hover:before {color: black;}#sk-container-id-1 div.sk-estimator:hover label.sk-toggleable__label-arrow:before {color: black;}#sk-container-id-1 div.sk-toggleable__content {max-height: 0;max-width: 0;overflow: hidden;text-align: left;background-color: #f0f8ff;}#sk-container-id-1 div.sk-toggleable__content pre {margin: 0.2em;color: black;border-radius: 0.25em;background-color: #f0f8ff;}#sk-container-id-1 input.sk-toggleable__control:checked~div.sk-toggleable__content {max-height: 200px;max-width: 100%;overflow: auto;}#sk-container-id-1 input.sk-toggleable__control:checked~label.sk-toggleable__label-arrow:before {content: \"▾\";}#sk-container-id-1 div.sk-estimator input.sk-toggleable__control:checked~label.sk-toggleable__label {background-color: #d4ebff;}#sk-container-id-1 div.sk-label input.sk-toggleable__control:checked~label.sk-toggleable__label {background-color: #d4ebff;}#sk-container-id-1 input.sk-hidden--visually {border: 0;clip: rect(1px 1px 1px 1px);clip: rect(1px, 1px, 1px, 1px);height: 1px;margin: -1px;overflow: hidden;padding: 0;position: absolute;width: 1px;}#sk-container-id-1 div.sk-estimator {font-family: monospace;background-color: #f0f8ff;border: 1px dotted black;border-radius: 0.25em;box-sizing: border-box;margin-bottom: 0.5em;}#sk-container-id-1 div.sk-estimator:hover {background-color: #d4ebff;}#sk-container-id-1 div.sk-parallel-item::after {content: \"\";width: 100%;border-bottom: 1px solid gray;flex-grow: 1;}#sk-container-id-1 div.sk-label:hover label.sk-toggleable__label {background-color: #d4ebff;}#sk-container-id-1 div.sk-serial::before {content: \"\";position: absolute;border-left: 1px solid gray;box-sizing: border-box;top: 0;bottom: 0;left: 50%;z-index: 0;}#sk-container-id-1 div.sk-serial {display: flex;flex-direction: column;align-items: center;background-color: white;padding-right: 0.2em;padding-left: 0.2em;position: relative;}#sk-container-id-1 div.sk-item {position: relative;z-index: 1;}#sk-container-id-1 div.sk-parallel {display: flex;align-items: stretch;justify-content: center;background-color: white;position: relative;}#sk-container-id-1 div.sk-item::before, #sk-container-id-1 div.sk-parallel-item::before {content: \"\";position: absolute;border-left: 1px solid gray;box-sizing: border-box;top: 0;bottom: 0;left: 50%;z-index: -1;}#sk-container-id-1 div.sk-parallel-item {display: flex;flex-direction: column;z-index: 1;position: relative;background-color: white;}#sk-container-id-1 div.sk-parallel-item:first-child::after {align-self: flex-end;width: 50%;}#sk-container-id-1 div.sk-parallel-item:last-child::after {align-self: flex-start;width: 50%;}#sk-container-id-1 div.sk-parallel-item:only-child::after {width: 0;}#sk-container-id-1 div.sk-dashed-wrapped {border: 1px dashed gray;margin: 0 0.4em 0.5em 0.4em;box-sizing: border-box;padding-bottom: 0.4em;background-color: white;}#sk-container-id-1 div.sk-label label {font-family: monospace;font-weight: bold;display: inline-block;line-height: 1.2em;}#sk-container-id-1 div.sk-label-container {text-align: center;}#sk-container-id-1 div.sk-container {/* jupyter's `normalize.less` sets `[hidden] { display: none; }` but bootstrap.min.css set `[hidden] { display: none !important; }` so we also need the `!important` here to be able to override the default hidden behavior on the sphinx rendered scikit-learn.org. See: https://github.com/scikit-learn/scikit-learn/issues/21755 */display: inline-block !important;position: relative;}#sk-container-id-1 div.sk-text-repr-fallback {display: none;}</style><div id=\"sk-container-id-1\" class=\"sk-top-container\"><div class=\"sk-text-repr-fallback\"><pre>GridSearchCV(estimator=DecisionTreeRegressor(), n_jobs=-1,\n",
       "             param_grid={&#x27;criterion&#x27;: [&#x27;squared_error&#x27;, &#x27;friedman_mse&#x27;,\n",
       "                                       &#x27;absolute_error&#x27;],\n",
       "                         &#x27;max_depth&#x27;: [1, 2, 3, 4, 5, 6],\n",
       "                         &#x27;max_leaf_nodes&#x27;: [8, 10, 12, 14, 16, 18],\n",
       "                         &#x27;min_samples_leaf&#x27;: [1, 2, 3, 4, 5],\n",
       "                         &#x27;min_samples_split&#x27;: [4, 6, 8, 10, 12]})</pre><b>In a Jupyter environment, please rerun this cell to show the HTML representation or trust the notebook. <br />On GitHub, the HTML representation is unable to render, please try loading this page with nbviewer.org.</b></div><div class=\"sk-container\" hidden><div class=\"sk-item sk-dashed-wrapped\"><div class=\"sk-label-container\"><div class=\"sk-label sk-toggleable\"><input class=\"sk-toggleable__control sk-hidden--visually\" id=\"sk-estimator-id-1\" type=\"checkbox\" ><label for=\"sk-estimator-id-1\" class=\"sk-toggleable__label sk-toggleable__label-arrow\">GridSearchCV</label><div class=\"sk-toggleable__content\"><pre>GridSearchCV(estimator=DecisionTreeRegressor(), n_jobs=-1,\n",
       "             param_grid={&#x27;criterion&#x27;: [&#x27;squared_error&#x27;, &#x27;friedman_mse&#x27;,\n",
       "                                       &#x27;absolute_error&#x27;],\n",
       "                         &#x27;max_depth&#x27;: [1, 2, 3, 4, 5, 6],\n",
       "                         &#x27;max_leaf_nodes&#x27;: [8, 10, 12, 14, 16, 18],\n",
       "                         &#x27;min_samples_leaf&#x27;: [1, 2, 3, 4, 5],\n",
       "                         &#x27;min_samples_split&#x27;: [4, 6, 8, 10, 12]})</pre></div></div></div><div class=\"sk-parallel\"><div class=\"sk-parallel-item\"><div class=\"sk-item\"><div class=\"sk-label-container\"><div class=\"sk-label sk-toggleable\"><input class=\"sk-toggleable__control sk-hidden--visually\" id=\"sk-estimator-id-2\" type=\"checkbox\" ><label for=\"sk-estimator-id-2\" class=\"sk-toggleable__label sk-toggleable__label-arrow\">estimator: DecisionTreeRegressor</label><div class=\"sk-toggleable__content\"><pre>DecisionTreeRegressor()</pre></div></div></div><div class=\"sk-serial\"><div class=\"sk-item\"><div class=\"sk-estimator sk-toggleable\"><input class=\"sk-toggleable__control sk-hidden--visually\" id=\"sk-estimator-id-3\" type=\"checkbox\" ><label for=\"sk-estimator-id-3\" class=\"sk-toggleable__label sk-toggleable__label-arrow\">DecisionTreeRegressor</label><div class=\"sk-toggleable__content\"><pre>DecisionTreeRegressor()</pre></div></div></div></div></div></div></div></div></div></div>"
      ],
      "text/plain": [
       "GridSearchCV(estimator=DecisionTreeRegressor(), n_jobs=-1,\n",
       "             param_grid={'criterion': ['squared_error', 'friedman_mse',\n",
       "                                       'absolute_error'],\n",
       "                         'max_depth': [1, 2, 3, 4, 5, 6],\n",
       "                         'max_leaf_nodes': [8, 10, 12, 14, 16, 18],\n",
       "                         'min_samples_leaf': [1, 2, 3, 4, 5],\n",
       "                         'min_samples_split': [4, 6, 8, 10, 12]})"
      ]
     },
     "execution_count": 13,
     "metadata": {},
     "output_type": "execute_result"
    }
   ],
   "source": [
    "grid = GridSearchCV(DecisionTreeRegressor(),param_grid=params, n_jobs = -1)\n",
    "\n",
    "grid.fit(xtrain,ytrain)"
   ]
  },
  {
   "cell_type": "code",
   "execution_count": 14,
   "metadata": {},
   "outputs": [
    {
     "data": {
      "text/plain": [
       "{'criterion': 'squared_error',\n",
       " 'max_depth': 5,\n",
       " 'max_leaf_nodes': 18,\n",
       " 'min_samples_leaf': 1,\n",
       " 'min_samples_split': 4}"
      ]
     },
     "execution_count": 14,
     "metadata": {},
     "output_type": "execute_result"
    }
   ],
   "source": [
    "grid.best_params_"
   ]
  },
  {
   "cell_type": "code",
   "execution_count": 45,
   "metadata": {},
   "outputs": [
    {
     "name": "stdout",
     "output_type": "stream",
     "text": [
      "Creating Model With DecisionTreeRegressor(max_depth=5, max_leaf_nodes=18, min_samples_split=4)\n",
      "Training Accuracy of are Model is : 0.92%\n",
      "Training Accuracy of are Model is : 0.92%\n",
      "Mean Absolute Error of are Model is : 3.8591\n",
      "\n",
      "\n"
     ]
    }
   ],
   "source": [
    "predict(DecisionTreeRegressor(criterion = 'squared_error', max_depth = 5, max_leaf_nodes = 18, min_samples_leaf = 1, min_samples_split = 4))"
   ]
  },
  {
   "attachments": {},
   "cell_type": "markdown",
   "metadata": {},
   "source": [
    "#### Tuning Gradient Boosting Classifier"
   ]
  },
  {
   "cell_type": "code",
   "execution_count": 16,
   "metadata": {},
   "outputs": [],
   "source": [
    "params = {\n",
    "    'loss' : ['squared_error', 'absolute_error', 'huber', 'quantile'],\n",
    "    'criterion' : ['friedman_mse', 'squared_error'],\n",
    "    'learning_rate' : [0.1,0.2,0.3,0.4,0.5],\n",
    "    'max_features' : ['auto', 'sqrt', 'log2'],\n",
    "    'n_estimators' : [1,2,3,4,5]\n",
    "    }"
   ]
  },
  {
   "cell_type": "code",
   "execution_count": 17,
   "metadata": {},
   "outputs": [
    {
     "data": {
      "text/html": [
       "<style>#sk-container-id-2 {color: black;background-color: white;}#sk-container-id-2 pre{padding: 0;}#sk-container-id-2 div.sk-toggleable {background-color: white;}#sk-container-id-2 label.sk-toggleable__label {cursor: pointer;display: block;width: 100%;margin-bottom: 0;padding: 0.3em;box-sizing: border-box;text-align: center;}#sk-container-id-2 label.sk-toggleable__label-arrow:before {content: \"▸\";float: left;margin-right: 0.25em;color: #696969;}#sk-container-id-2 label.sk-toggleable__label-arrow:hover:before {color: black;}#sk-container-id-2 div.sk-estimator:hover label.sk-toggleable__label-arrow:before {color: black;}#sk-container-id-2 div.sk-toggleable__content {max-height: 0;max-width: 0;overflow: hidden;text-align: left;background-color: #f0f8ff;}#sk-container-id-2 div.sk-toggleable__content pre {margin: 0.2em;color: black;border-radius: 0.25em;background-color: #f0f8ff;}#sk-container-id-2 input.sk-toggleable__control:checked~div.sk-toggleable__content {max-height: 200px;max-width: 100%;overflow: auto;}#sk-container-id-2 input.sk-toggleable__control:checked~label.sk-toggleable__label-arrow:before {content: \"▾\";}#sk-container-id-2 div.sk-estimator input.sk-toggleable__control:checked~label.sk-toggleable__label {background-color: #d4ebff;}#sk-container-id-2 div.sk-label input.sk-toggleable__control:checked~label.sk-toggleable__label {background-color: #d4ebff;}#sk-container-id-2 input.sk-hidden--visually {border: 0;clip: rect(1px 1px 1px 1px);clip: rect(1px, 1px, 1px, 1px);height: 1px;margin: -1px;overflow: hidden;padding: 0;position: absolute;width: 1px;}#sk-container-id-2 div.sk-estimator {font-family: monospace;background-color: #f0f8ff;border: 1px dotted black;border-radius: 0.25em;box-sizing: border-box;margin-bottom: 0.5em;}#sk-container-id-2 div.sk-estimator:hover {background-color: #d4ebff;}#sk-container-id-2 div.sk-parallel-item::after {content: \"\";width: 100%;border-bottom: 1px solid gray;flex-grow: 1;}#sk-container-id-2 div.sk-label:hover label.sk-toggleable__label {background-color: #d4ebff;}#sk-container-id-2 div.sk-serial::before {content: \"\";position: absolute;border-left: 1px solid gray;box-sizing: border-box;top: 0;bottom: 0;left: 50%;z-index: 0;}#sk-container-id-2 div.sk-serial {display: flex;flex-direction: column;align-items: center;background-color: white;padding-right: 0.2em;padding-left: 0.2em;position: relative;}#sk-container-id-2 div.sk-item {position: relative;z-index: 1;}#sk-container-id-2 div.sk-parallel {display: flex;align-items: stretch;justify-content: center;background-color: white;position: relative;}#sk-container-id-2 div.sk-item::before, #sk-container-id-2 div.sk-parallel-item::before {content: \"\";position: absolute;border-left: 1px solid gray;box-sizing: border-box;top: 0;bottom: 0;left: 50%;z-index: -1;}#sk-container-id-2 div.sk-parallel-item {display: flex;flex-direction: column;z-index: 1;position: relative;background-color: white;}#sk-container-id-2 div.sk-parallel-item:first-child::after {align-self: flex-end;width: 50%;}#sk-container-id-2 div.sk-parallel-item:last-child::after {align-self: flex-start;width: 50%;}#sk-container-id-2 div.sk-parallel-item:only-child::after {width: 0;}#sk-container-id-2 div.sk-dashed-wrapped {border: 1px dashed gray;margin: 0 0.4em 0.5em 0.4em;box-sizing: border-box;padding-bottom: 0.4em;background-color: white;}#sk-container-id-2 div.sk-label label {font-family: monospace;font-weight: bold;display: inline-block;line-height: 1.2em;}#sk-container-id-2 div.sk-label-container {text-align: center;}#sk-container-id-2 div.sk-container {/* jupyter's `normalize.less` sets `[hidden] { display: none; }` but bootstrap.min.css set `[hidden] { display: none !important; }` so we also need the `!important` here to be able to override the default hidden behavior on the sphinx rendered scikit-learn.org. See: https://github.com/scikit-learn/scikit-learn/issues/21755 */display: inline-block !important;position: relative;}#sk-container-id-2 div.sk-text-repr-fallback {display: none;}</style><div id=\"sk-container-id-2\" class=\"sk-top-container\"><div class=\"sk-text-repr-fallback\"><pre>GridSearchCV(estimator=GradientBoostingRegressor(), n_jobs=-1,\n",
       "             param_grid={&#x27;criterion&#x27;: [&#x27;friedman_mse&#x27;, &#x27;squared_error&#x27;],\n",
       "                         &#x27;learning_rate&#x27;: [0.1, 0.2, 0.3, 0.4, 0.5],\n",
       "                         &#x27;loss&#x27;: [&#x27;squared_error&#x27;, &#x27;absolute_error&#x27;, &#x27;huber&#x27;,\n",
       "                                  &#x27;quantile&#x27;],\n",
       "                         &#x27;max_features&#x27;: [&#x27;auto&#x27;, &#x27;sqrt&#x27;, &#x27;log2&#x27;],\n",
       "                         &#x27;n_estimators&#x27;: [1, 2, 3, 4, 5]})</pre><b>In a Jupyter environment, please rerun this cell to show the HTML representation or trust the notebook. <br />On GitHub, the HTML representation is unable to render, please try loading this page with nbviewer.org.</b></div><div class=\"sk-container\" hidden><div class=\"sk-item sk-dashed-wrapped\"><div class=\"sk-label-container\"><div class=\"sk-label sk-toggleable\"><input class=\"sk-toggleable__control sk-hidden--visually\" id=\"sk-estimator-id-4\" type=\"checkbox\" ><label for=\"sk-estimator-id-4\" class=\"sk-toggleable__label sk-toggleable__label-arrow\">GridSearchCV</label><div class=\"sk-toggleable__content\"><pre>GridSearchCV(estimator=GradientBoostingRegressor(), n_jobs=-1,\n",
       "             param_grid={&#x27;criterion&#x27;: [&#x27;friedman_mse&#x27;, &#x27;squared_error&#x27;],\n",
       "                         &#x27;learning_rate&#x27;: [0.1, 0.2, 0.3, 0.4, 0.5],\n",
       "                         &#x27;loss&#x27;: [&#x27;squared_error&#x27;, &#x27;absolute_error&#x27;, &#x27;huber&#x27;,\n",
       "                                  &#x27;quantile&#x27;],\n",
       "                         &#x27;max_features&#x27;: [&#x27;auto&#x27;, &#x27;sqrt&#x27;, &#x27;log2&#x27;],\n",
       "                         &#x27;n_estimators&#x27;: [1, 2, 3, 4, 5]})</pre></div></div></div><div class=\"sk-parallel\"><div class=\"sk-parallel-item\"><div class=\"sk-item\"><div class=\"sk-label-container\"><div class=\"sk-label sk-toggleable\"><input class=\"sk-toggleable__control sk-hidden--visually\" id=\"sk-estimator-id-5\" type=\"checkbox\" ><label for=\"sk-estimator-id-5\" class=\"sk-toggleable__label sk-toggleable__label-arrow\">estimator: GradientBoostingRegressor</label><div class=\"sk-toggleable__content\"><pre>GradientBoostingRegressor()</pre></div></div></div><div class=\"sk-serial\"><div class=\"sk-item\"><div class=\"sk-estimator sk-toggleable\"><input class=\"sk-toggleable__control sk-hidden--visually\" id=\"sk-estimator-id-6\" type=\"checkbox\" ><label for=\"sk-estimator-id-6\" class=\"sk-toggleable__label sk-toggleable__label-arrow\">GradientBoostingRegressor</label><div class=\"sk-toggleable__content\"><pre>GradientBoostingRegressor()</pre></div></div></div></div></div></div></div></div></div></div>"
      ],
      "text/plain": [
       "GridSearchCV(estimator=GradientBoostingRegressor(), n_jobs=-1,\n",
       "             param_grid={'criterion': ['friedman_mse', 'squared_error'],\n",
       "                         'learning_rate': [0.1, 0.2, 0.3, 0.4, 0.5],\n",
       "                         'loss': ['squared_error', 'absolute_error', 'huber',\n",
       "                                  'quantile'],\n",
       "                         'max_features': ['auto', 'sqrt', 'log2'],\n",
       "                         'n_estimators': [1, 2, 3, 4, 5]})"
      ]
     },
     "execution_count": 17,
     "metadata": {},
     "output_type": "execute_result"
    }
   ],
   "source": [
    "grid = GridSearchCV(GradientBoostingRegressor(),param_grid=params, n_jobs=-1)\n",
    "grid.fit(xtrain,ytrain)"
   ]
  },
  {
   "cell_type": "code",
   "execution_count": 18,
   "metadata": {},
   "outputs": [
    {
     "data": {
      "text/plain": [
       "{'criterion': 'friedman_mse',\n",
       " 'learning_rate': 0.5,\n",
       " 'loss': 'squared_error',\n",
       " 'max_features': 'auto',\n",
       " 'n_estimators': 5}"
      ]
     },
     "execution_count": 18,
     "metadata": {},
     "output_type": "execute_result"
    }
   ],
   "source": [
    "grid.best_params_"
   ]
  },
  {
   "cell_type": "code",
   "execution_count": 48,
   "metadata": {},
   "outputs": [
    {
     "name": "stdout",
     "output_type": "stream",
     "text": [
      "Creating Model With GradientBoostingRegressor(learning_rate=0.5, max_features='auto',\n",
      "                          n_estimators=5)\n",
      "Training Accuracy of are Model is : 0.93%\n",
      "Training Accuracy of are Model is : 0.93%\n",
      "Mean Absolute Error of are Model is : 3.7278\n",
      "\n",
      "\n"
     ]
    }
   ],
   "source": [
    "predict(GradientBoostingRegressor(criterion = 'friedman_mse', learning_rate = 0.5, loss = 'squared_error', max_features = 'auto', n_estimators = 5))"
   ]
  },
  {
   "attachments": {},
   "cell_type": "markdown",
   "metadata": {},
   "source": [
    "#### Tuning Random Forest Classifier With Bagging Classifier"
   ]
  },
  {
   "cell_type": "code",
   "execution_count": 51,
   "metadata": {},
   "outputs": [],
   "source": [
    "params = {  'bootstrap': [True, False],\n",
    "            'max_depth': [10, 20, 30, 40, 50],\n",
    "            'max_features': ['auto', 'sqrt'],\n",
    "            'min_samples_leaf': [1, 2, 4],\n",
    "            'min_samples_split': [2, 5, 10],\n",
    "            'n_estimators': [200, 400, 600, 800, 1000]\n",
    "    }"
   ]
  },
  {
   "cell_type": "code",
   "execution_count": 52,
   "metadata": {},
   "outputs": [
    {
     "data": {
      "text/html": [
       "<style>#sk-container-id-4 {color: black;background-color: white;}#sk-container-id-4 pre{padding: 0;}#sk-container-id-4 div.sk-toggleable {background-color: white;}#sk-container-id-4 label.sk-toggleable__label {cursor: pointer;display: block;width: 100%;margin-bottom: 0;padding: 0.3em;box-sizing: border-box;text-align: center;}#sk-container-id-4 label.sk-toggleable__label-arrow:before {content: \"▸\";float: left;margin-right: 0.25em;color: #696969;}#sk-container-id-4 label.sk-toggleable__label-arrow:hover:before {color: black;}#sk-container-id-4 div.sk-estimator:hover label.sk-toggleable__label-arrow:before {color: black;}#sk-container-id-4 div.sk-toggleable__content {max-height: 0;max-width: 0;overflow: hidden;text-align: left;background-color: #f0f8ff;}#sk-container-id-4 div.sk-toggleable__content pre {margin: 0.2em;color: black;border-radius: 0.25em;background-color: #f0f8ff;}#sk-container-id-4 input.sk-toggleable__control:checked~div.sk-toggleable__content {max-height: 200px;max-width: 100%;overflow: auto;}#sk-container-id-4 input.sk-toggleable__control:checked~label.sk-toggleable__label-arrow:before {content: \"▾\";}#sk-container-id-4 div.sk-estimator input.sk-toggleable__control:checked~label.sk-toggleable__label {background-color: #d4ebff;}#sk-container-id-4 div.sk-label input.sk-toggleable__control:checked~label.sk-toggleable__label {background-color: #d4ebff;}#sk-container-id-4 input.sk-hidden--visually {border: 0;clip: rect(1px 1px 1px 1px);clip: rect(1px, 1px, 1px, 1px);height: 1px;margin: -1px;overflow: hidden;padding: 0;position: absolute;width: 1px;}#sk-container-id-4 div.sk-estimator {font-family: monospace;background-color: #f0f8ff;border: 1px dotted black;border-radius: 0.25em;box-sizing: border-box;margin-bottom: 0.5em;}#sk-container-id-4 div.sk-estimator:hover {background-color: #d4ebff;}#sk-container-id-4 div.sk-parallel-item::after {content: \"\";width: 100%;border-bottom: 1px solid gray;flex-grow: 1;}#sk-container-id-4 div.sk-label:hover label.sk-toggleable__label {background-color: #d4ebff;}#sk-container-id-4 div.sk-serial::before {content: \"\";position: absolute;border-left: 1px solid gray;box-sizing: border-box;top: 0;bottom: 0;left: 50%;z-index: 0;}#sk-container-id-4 div.sk-serial {display: flex;flex-direction: column;align-items: center;background-color: white;padding-right: 0.2em;padding-left: 0.2em;position: relative;}#sk-container-id-4 div.sk-item {position: relative;z-index: 1;}#sk-container-id-4 div.sk-parallel {display: flex;align-items: stretch;justify-content: center;background-color: white;position: relative;}#sk-container-id-4 div.sk-item::before, #sk-container-id-4 div.sk-parallel-item::before {content: \"\";position: absolute;border-left: 1px solid gray;box-sizing: border-box;top: 0;bottom: 0;left: 50%;z-index: -1;}#sk-container-id-4 div.sk-parallel-item {display: flex;flex-direction: column;z-index: 1;position: relative;background-color: white;}#sk-container-id-4 div.sk-parallel-item:first-child::after {align-self: flex-end;width: 50%;}#sk-container-id-4 div.sk-parallel-item:last-child::after {align-self: flex-start;width: 50%;}#sk-container-id-4 div.sk-parallel-item:only-child::after {width: 0;}#sk-container-id-4 div.sk-dashed-wrapped {border: 1px dashed gray;margin: 0 0.4em 0.5em 0.4em;box-sizing: border-box;padding-bottom: 0.4em;background-color: white;}#sk-container-id-4 div.sk-label label {font-family: monospace;font-weight: bold;display: inline-block;line-height: 1.2em;}#sk-container-id-4 div.sk-label-container {text-align: center;}#sk-container-id-4 div.sk-container {/* jupyter's `normalize.less` sets `[hidden] { display: none; }` but bootstrap.min.css set `[hidden] { display: none !important; }` so we also need the `!important` here to be able to override the default hidden behavior on the sphinx rendered scikit-learn.org. See: https://github.com/scikit-learn/scikit-learn/issues/21755 */display: inline-block !important;position: relative;}#sk-container-id-4 div.sk-text-repr-fallback {display: none;}</style><div id=\"sk-container-id-4\" class=\"sk-top-container\"><div class=\"sk-text-repr-fallback\"><pre>RandomizedSearchCV(estimator=RandomForestRegressor(), n_jobs=-1,\n",
       "                   param_distributions={&#x27;bootstrap&#x27;: [True, False],\n",
       "                                        &#x27;max_depth&#x27;: [10, 20, 30, 40, 50],\n",
       "                                        &#x27;max_features&#x27;: [&#x27;auto&#x27;, &#x27;sqrt&#x27;],\n",
       "                                        &#x27;min_samples_leaf&#x27;: [1, 2, 4],\n",
       "                                        &#x27;min_samples_split&#x27;: [2, 5, 10],\n",
       "                                        &#x27;n_estimators&#x27;: [200, 400, 600, 800,\n",
       "                                                         1000]})</pre><b>In a Jupyter environment, please rerun this cell to show the HTML representation or trust the notebook. <br />On GitHub, the HTML representation is unable to render, please try loading this page with nbviewer.org.</b></div><div class=\"sk-container\" hidden><div class=\"sk-item sk-dashed-wrapped\"><div class=\"sk-label-container\"><div class=\"sk-label sk-toggleable\"><input class=\"sk-toggleable__control sk-hidden--visually\" id=\"sk-estimator-id-10\" type=\"checkbox\" ><label for=\"sk-estimator-id-10\" class=\"sk-toggleable__label sk-toggleable__label-arrow\">RandomizedSearchCV</label><div class=\"sk-toggleable__content\"><pre>RandomizedSearchCV(estimator=RandomForestRegressor(), n_jobs=-1,\n",
       "                   param_distributions={&#x27;bootstrap&#x27;: [True, False],\n",
       "                                        &#x27;max_depth&#x27;: [10, 20, 30, 40, 50],\n",
       "                                        &#x27;max_features&#x27;: [&#x27;auto&#x27;, &#x27;sqrt&#x27;],\n",
       "                                        &#x27;min_samples_leaf&#x27;: [1, 2, 4],\n",
       "                                        &#x27;min_samples_split&#x27;: [2, 5, 10],\n",
       "                                        &#x27;n_estimators&#x27;: [200, 400, 600, 800,\n",
       "                                                         1000]})</pre></div></div></div><div class=\"sk-parallel\"><div class=\"sk-parallel-item\"><div class=\"sk-item\"><div class=\"sk-label-container\"><div class=\"sk-label sk-toggleable\"><input class=\"sk-toggleable__control sk-hidden--visually\" id=\"sk-estimator-id-11\" type=\"checkbox\" ><label for=\"sk-estimator-id-11\" class=\"sk-toggleable__label sk-toggleable__label-arrow\">estimator: RandomForestRegressor</label><div class=\"sk-toggleable__content\"><pre>RandomForestRegressor()</pre></div></div></div><div class=\"sk-serial\"><div class=\"sk-item\"><div class=\"sk-estimator sk-toggleable\"><input class=\"sk-toggleable__control sk-hidden--visually\" id=\"sk-estimator-id-12\" type=\"checkbox\" ><label for=\"sk-estimator-id-12\" class=\"sk-toggleable__label sk-toggleable__label-arrow\">RandomForestRegressor</label><div class=\"sk-toggleable__content\"><pre>RandomForestRegressor()</pre></div></div></div></div></div></div></div></div></div></div>"
      ],
      "text/plain": [
       "RandomizedSearchCV(estimator=RandomForestRegressor(), n_jobs=-1,\n",
       "                   param_distributions={'bootstrap': [True, False],\n",
       "                                        'max_depth': [10, 20, 30, 40, 50],\n",
       "                                        'max_features': ['auto', 'sqrt'],\n",
       "                                        'min_samples_leaf': [1, 2, 4],\n",
       "                                        'min_samples_split': [2, 5, 10],\n",
       "                                        'n_estimators': [200, 400, 600, 800,\n",
       "                                                         1000]})"
      ]
     },
     "execution_count": 52,
     "metadata": {},
     "output_type": "execute_result"
    }
   ],
   "source": [
    "rf = RandomizedSearchCV(RandomForestRegressor(), param_distributions = params, n_jobs = -1)\n",
    "\n",
    "rf.fit(xtrain,ytrain)"
   ]
  },
  {
   "cell_type": "code",
   "execution_count": 53,
   "metadata": {},
   "outputs": [
    {
     "data": {
      "text/plain": [
       "{'n_estimators': 1000,\n",
       " 'min_samples_split': 5,\n",
       " 'min_samples_leaf': 4,\n",
       " 'max_features': 'auto',\n",
       " 'max_depth': 10,\n",
       " 'bootstrap': True}"
      ]
     },
     "execution_count": 53,
     "metadata": {},
     "output_type": "execute_result"
    }
   ],
   "source": [
    "rf.best_params_"
   ]
  },
  {
   "cell_type": "code",
   "execution_count": 54,
   "metadata": {},
   "outputs": [
    {
     "name": "stdout",
     "output_type": "stream",
     "text": [
      "Creating Model With RandomForestRegressor(max_depth=10, max_features='auto', min_samples_leaf=4,\n",
      "                      min_samples_split=5, n_estimators=1000)\n",
      "Training Accuracy of are Model is : 0.96%\n",
      "Training Accuracy of are Model is : 0.94%\n",
      "Mean Absolute Error of are Model is : 3.2928\n",
      "\n",
      "\n"
     ]
    }
   ],
   "source": [
    "predict(RandomForestRegressor(n_estimators = 1000, min_samples_split = 5, min_samples_leaf = 4, max_features = 'auto', max_depth = 10, bootstrap = True))"
   ]
  },
  {
   "attachments": {},
   "cell_type": "markdown",
   "metadata": {},
   "source": [
    "#### Tuning Logistic Regression With AdaBoost Classifier"
   ]
  },
  {
   "cell_type": "code",
   "execution_count": 24,
   "metadata": {},
   "outputs": [
    {
     "name": "stdout",
     "output_type": "stream",
     "text": [
      "Creating Model With AdaBoostRegressor(estimator=LinearRegression())\n",
      "Training Accuracy of are Model is : 0.88%\n",
      "Training Accuracy of are Model is : 0.89%\n",
      "Mean Absolute Error of are Model is : 4.6983\n",
      "\n",
      "\n"
     ]
    }
   ],
   "source": [
    "predict(AdaBoostRegressor(LinearRegression()))"
   ]
  },
  {
   "cell_type": "code",
   "execution_count": 25,
   "metadata": {},
   "outputs": [
    {
     "name": "stdout",
     "output_type": "stream",
     "text": [
      "Creating Model With BaggingRegressor(estimator=LinearRegression())\n",
      "Training Accuracy of are Model is : 0.88%\n",
      "Training Accuracy of are Model is : 0.9%\n",
      "Mean Absolute Error of are Model is : 4.5011\n",
      "\n",
      "\n"
     ]
    }
   ],
   "source": [
    "predict(BaggingRegressor(LinearRegression()))"
   ]
  },
  {
   "attachments": {},
   "cell_type": "markdown",
   "metadata": {},
   "source": [
    "#### Tuning KNeighborsClassifier With Bagging Classifier"
   ]
  },
  {
   "cell_type": "code",
   "execution_count": 55,
   "metadata": {},
   "outputs": [
    {
     "data": {
      "image/png": "[encoded data removed]",
      "text/plain": [
       "<Figure size 3750x2000 with 1 Axes>"
      ]
     },
     "metadata": {},
     "output_type": "display_data"
    }
   ],
   "source": [
    "trainac = []\n",
    "testac = []\n",
    "\n",
    "for i in range(10,15):\n",
    "    knn = KNeighborsRegressor(n_neighbors=i)\n",
    "    knn.fit(xtrain,ytrain)\n",
    "    ypred = knn.predict(xtest)\n",
    "\n",
    "    trainac.append(knn.score(xtrain,ytrain))\n",
    "    testac.append(knn.score(xtest,ytest))\n",
    "\n",
    "plt.title('')\n",
    "plt.plot(range(10,15),trainac)\n",
    "plt.plot(range(10,15), testac)\n",
    "plt.xlabel('Number of K')\n",
    "plt.ylabel('Accuracy')\n",
    "plt.grid()"
   ]
  },
  {
   "cell_type": "code",
   "execution_count": 27,
   "metadata": {},
   "outputs": [
    {
     "name": "stdout",
     "output_type": "stream",
     "text": [
      "Creating Model With KNeighborsRegressor(n_neighbors=13)\n",
      "Training Accuracy of are Model is : 0.93%\n",
      "Training Accuracy of are Model is : 0.92%\n",
      "Mean Absolute Error of are Model is : 3.79\n",
      "\n",
      "\n"
     ]
    }
   ],
   "source": [
    "predict(KNeighborsRegressor(n_neighbors = 13))"
   ]
  },
  {
   "cell_type": "markdown",
   "metadata": {},
   "source": [
    "### Creating ANN Model"
   ]
  },
  {
   "cell_type": "markdown",
   "metadata": {},
   "source": [
    "#### Creating ann_def Model"
   ]
  },
  {
   "cell_type": "code",
   "execution_count": 28,
   "metadata": {},
   "outputs": [],
   "source": [
    "ann_def =Sequential()"
   ]
  },
  {
   "cell_type": "markdown",
   "metadata": {},
   "source": [
    "##### Creating Hidden Layer"
   ]
  },
  {
   "cell_type": "code",
   "execution_count": 29,
   "metadata": {},
   "outputs": [],
   "source": [
    "ann_def.add(Dense(units=30, activation='relu'))\n",
    "ann_def.add(Dense(units=20, activation='relu'))"
   ]
  },
  {
   "cell_type": "markdown",
   "metadata": {},
   "source": [
    "##### Creating Output Layer"
   ]
  },
  {
   "cell_type": "code",
   "execution_count": 30,
   "metadata": {},
   "outputs": [],
   "source": [
    "ann_def.add(Dense(units=1))"
   ]
  },
  {
   "cell_type": "markdown",
   "metadata": {},
   "source": [
    "##### Connecting All Neurons In Each Layer"
   ]
  },
  {
   "cell_type": "code",
   "execution_count": 31,
   "metadata": {},
   "outputs": [],
   "source": [
    "ann_def.compile(optimizer='adam', loss='mse')"
   ]
  },
  {
   "cell_type": "markdown",
   "metadata": {},
   "source": [
    "##### Fitting Data"
   ]
  },
  {
   "cell_type": "code",
   "execution_count": 32,
   "metadata": {},
   "outputs": [
    {
     "name": "stdout",
     "output_type": "stream",
     "text": [
      "Epoch 1/100\n",
      "268/268 [==============================] - 1s 2ms/step - loss: 27204.6621 - val_loss: 273.3091\n",
      "Epoch 2/100\n",
      "268/268 [==============================] - 0s 2ms/step - loss: 248.5527 - val_loss: 272.5832\n",
      "Epoch 3/100\n",
      "268/268 [==============================] - 0s 2ms/step - loss: 248.0936 - val_loss: 274.3320\n",
      "Epoch 4/100\n",
      "268/268 [==============================] - 0s 2ms/step - loss: 248.1205 - val_loss: 274.2707\n",
      "Epoch 5/100\n",
      "268/268 [==============================] - 0s 2ms/step - loss: 247.6554 - val_loss: 272.5228\n",
      "Epoch 6/100\n",
      "268/268 [==============================] - 0s 2ms/step - loss: 247.4492 - val_loss: 271.9644\n",
      "Epoch 7/100\n",
      "268/268 [==============================] - 0s 2ms/step - loss: 246.7692 - val_loss: 270.0971\n",
      "Epoch 8/100\n",
      "268/268 [==============================] - 0s 2ms/step - loss: 247.1935 - val_loss: 271.3548\n",
      "Epoch 9/100\n",
      "268/268 [==============================] - 0s 2ms/step - loss: 245.5110 - val_loss: 268.6445\n",
      "Epoch 10/100\n",
      "268/268 [==============================] - 0s 2ms/step - loss: 244.4396 - val_loss: 271.7207\n",
      "Epoch 11/100\n",
      "268/268 [==============================] - 0s 2ms/step - loss: 244.2483 - val_loss: 269.8300\n",
      "Epoch 12/100\n",
      "268/268 [==============================] - 0s 2ms/step - loss: 242.4224 - val_loss: 263.3189\n",
      "Epoch 13/100\n",
      "268/268 [==============================] - 0s 2ms/step - loss: 243.0805 - val_loss: 267.5613\n",
      "Epoch 14/100\n",
      "268/268 [==============================] - 0s 2ms/step - loss: 239.9490 - val_loss: 259.7164\n",
      "Epoch 15/100\n",
      "268/268 [==============================] - 0s 2ms/step - loss: 238.5149 - val_loss: 266.2378\n",
      "Epoch 16/100\n",
      "268/268 [==============================] - 0s 1ms/step - loss: 236.2773 - val_loss: 259.8936\n",
      "Epoch 17/100\n",
      "268/268 [==============================] - 0s 2ms/step - loss: 234.4554 - val_loss: 258.4325\n",
      "Epoch 18/100\n",
      "268/268 [==============================] - 0s 2ms/step - loss: 234.9754 - val_loss: 250.7976\n",
      "Epoch 19/100\n",
      "268/268 [==============================] - 0s 2ms/step - loss: 230.5079 - val_loss: 248.2868\n",
      "Epoch 20/100\n",
      "268/268 [==============================] - 0s 2ms/step - loss: 229.0669 - val_loss: 245.6464\n",
      "Epoch 21/100\n",
      "268/268 [==============================] - 0s 1ms/step - loss: 224.6305 - val_loss: 243.1613\n",
      "Epoch 22/100\n",
      "268/268 [==============================] - 0s 2ms/step - loss: 223.0669 - val_loss: 237.9980\n",
      "Epoch 23/100\n",
      "268/268 [==============================] - 0s 1ms/step - loss: 219.8344 - val_loss: 236.0384\n",
      "Epoch 24/100\n",
      "268/268 [==============================] - 0s 1ms/step - loss: 219.2652 - val_loss: 243.8921\n",
      "Epoch 25/100\n",
      "268/268 [==============================] - 0s 1ms/step - loss: 212.9950 - val_loss: 226.9360\n",
      "Epoch 26/100\n",
      "268/268 [==============================] - 0s 1ms/step - loss: 210.1808 - val_loss: 223.9295\n",
      "Epoch 27/100\n",
      "268/268 [==============================] - 0s 1ms/step - loss: 205.4319 - val_loss: 223.6210\n",
      "Epoch 28/100\n",
      "268/268 [==============================] - 0s 1ms/step - loss: 204.6274 - val_loss: 213.4410\n",
      "Epoch 29/100\n",
      "268/268 [==============================] - 0s 1ms/step - loss: 201.9056 - val_loss: 213.7333\n",
      "Epoch 30/100\n",
      "268/268 [==============================] - 0s 1ms/step - loss: 194.5999 - val_loss: 202.4717\n",
      "Epoch 31/100\n",
      "268/268 [==============================] - 0s 1ms/step - loss: 185.4291 - val_loss: 197.6024\n",
      "Epoch 32/100\n",
      "268/268 [==============================] - 0s 1ms/step - loss: 183.4387 - val_loss: 196.8114\n",
      "Epoch 33/100\n",
      "268/268 [==============================] - 0s 2ms/step - loss: 178.5859 - val_loss: 185.1382\n",
      "Epoch 34/100\n",
      "268/268 [==============================] - 0s 1ms/step - loss: 173.9051 - val_loss: 182.8360\n",
      "Epoch 35/100\n",
      "268/268 [==============================] - 0s 1ms/step - loss: 166.3499 - val_loss: 177.7611\n",
      "Epoch 36/100\n",
      "268/268 [==============================] - 0s 1ms/step - loss: 159.3378 - val_loss: 173.0932\n",
      "Epoch 37/100\n",
      "268/268 [==============================] - 0s 1ms/step - loss: 153.1772 - val_loss: 161.0660\n",
      "Epoch 38/100\n",
      "268/268 [==============================] - 0s 1ms/step - loss: 148.8928 - val_loss: 151.9151\n",
      "Epoch 39/100\n",
      "268/268 [==============================] - 0s 1ms/step - loss: 139.7402 - val_loss: 152.9286\n",
      "Epoch 40/100\n",
      "268/268 [==============================] - 0s 1ms/step - loss: 129.2283 - val_loss: 120.8557\n",
      "Epoch 41/100\n",
      "268/268 [==============================] - 0s 1ms/step - loss: 112.5264 - val_loss: 111.2921\n",
      "Epoch 42/100\n",
      "268/268 [==============================] - 0s 2ms/step - loss: 99.6326 - val_loss: 101.3864\n",
      "Epoch 43/100\n",
      "268/268 [==============================] - 0s 2ms/step - loss: 89.1762 - val_loss: 85.9006\n",
      "Epoch 44/100\n",
      "268/268 [==============================] - 0s 2ms/step - loss: 77.5846 - val_loss: 109.1455\n",
      "Epoch 45/100\n",
      "268/268 [==============================] - 0s 1ms/step - loss: 69.8159 - val_loss: 78.5510\n",
      "Epoch 46/100\n",
      "268/268 [==============================] - 0s 2ms/step - loss: 60.9505 - val_loss: 68.4564\n",
      "Epoch 47/100\n",
      "268/268 [==============================] - 0s 1ms/step - loss: 57.5479 - val_loss: 50.0243\n",
      "Epoch 48/100\n",
      "268/268 [==============================] - 0s 1ms/step - loss: 51.5819 - val_loss: 52.8735\n",
      "Epoch 49/100\n",
      "268/268 [==============================] - 0s 1ms/step - loss: 48.5548 - val_loss: 46.1513\n",
      "Epoch 50/100\n",
      "268/268 [==============================] - 0s 1ms/step - loss: 46.7633 - val_loss: 41.0334\n",
      "Epoch 51/100\n",
      "268/268 [==============================] - 0s 1ms/step - loss: 43.5897 - val_loss: 55.3670\n",
      "Epoch 52/100\n",
      "268/268 [==============================] - 0s 1ms/step - loss: 43.7685 - val_loss: 38.2765\n",
      "Epoch 53/100\n",
      "268/268 [==============================] - 0s 2ms/step - loss: 42.6635 - val_loss: 44.4293\n",
      "Epoch 54/100\n",
      "268/268 [==============================] - 0s 1ms/step - loss: 42.1018 - val_loss: 42.6518\n",
      "Epoch 55/100\n",
      "268/268 [==============================] - 0s 2ms/step - loss: 42.8315 - val_loss: 37.1476\n",
      "Epoch 56/100\n",
      "268/268 [==============================] - 0s 1ms/step - loss: 42.2239 - val_loss: 42.0210\n",
      "Epoch 57/100\n",
      "268/268 [==============================] - 0s 2ms/step - loss: 41.3018 - val_loss: 34.9702\n",
      "Epoch 58/100\n",
      "268/268 [==============================] - 0s 2ms/step - loss: 39.6111 - val_loss: 41.4508\n",
      "Epoch 59/100\n",
      "268/268 [==============================] - 0s 1ms/step - loss: 37.9233 - val_loss: 33.4970\n",
      "Epoch 60/100\n",
      "268/268 [==============================] - 0s 1ms/step - loss: 38.0863 - val_loss: 36.5238\n",
      "Epoch 61/100\n",
      "268/268 [==============================] - 0s 1ms/step - loss: 36.9037 - val_loss: 34.9391\n",
      "Epoch 62/100\n",
      "268/268 [==============================] - 0s 1ms/step - loss: 36.5326 - val_loss: 37.7072\n",
      "Epoch 63/100\n",
      "268/268 [==============================] - 0s 2ms/step - loss: 37.3034 - val_loss: 42.0007\n",
      "Epoch 64/100\n",
      "268/268 [==============================] - 0s 1ms/step - loss: 36.5292 - val_loss: 39.2996\n",
      "Epoch 65/100\n",
      "268/268 [==============================] - 0s 1ms/step - loss: 36.0663 - val_loss: 57.1800\n",
      "Epoch 66/100\n",
      "268/268 [==============================] - 0s 2ms/step - loss: 37.3344 - val_loss: 37.8246\n",
      "Epoch 67/100\n",
      "268/268 [==============================] - 0s 2ms/step - loss: 36.7442 - val_loss: 31.3578\n",
      "Epoch 68/100\n",
      "268/268 [==============================] - 0s 1ms/step - loss: 36.3985 - val_loss: 37.9395\n",
      "Epoch 69/100\n",
      "268/268 [==============================] - 0s 2ms/step - loss: 36.8206 - val_loss: 31.5230\n",
      "Epoch 70/100\n",
      "268/268 [==============================] - 0s 1ms/step - loss: 36.3306 - val_loss: 36.4556\n",
      "Epoch 71/100\n",
      "268/268 [==============================] - 0s 1ms/step - loss: 38.2416 - val_loss: 31.0297\n",
      "Epoch 72/100\n",
      "268/268 [==============================] - 0s 1ms/step - loss: 35.1517 - val_loss: 31.0595\n",
      "Epoch 73/100\n",
      "268/268 [==============================] - 0s 1ms/step - loss: 35.3977 - val_loss: 33.1689\n",
      "Epoch 74/100\n",
      "268/268 [==============================] - 0s 1ms/step - loss: 37.5165 - val_loss: 31.0418\n",
      "Epoch 75/100\n",
      "268/268 [==============================] - 0s 1ms/step - loss: 37.3448 - val_loss: 58.7857\n",
      "Epoch 76/100\n",
      "268/268 [==============================] - 0s 1ms/step - loss: 37.1218 - val_loss: 33.2279\n",
      "Epoch 77/100\n",
      "268/268 [==============================] - 0s 1ms/step - loss: 37.2127 - val_loss: 39.1539\n",
      "Epoch 78/100\n",
      "268/268 [==============================] - 0s 1ms/step - loss: 36.3623 - val_loss: 32.0149\n",
      "Epoch 79/100\n",
      "268/268 [==============================] - 0s 1ms/step - loss: 35.7026 - val_loss: 31.1160\n",
      "Epoch 80/100\n",
      "268/268 [==============================] - 0s 1ms/step - loss: 35.5680 - val_loss: 34.3859\n",
      "Epoch 81/100\n",
      "268/268 [==============================] - 0s 2ms/step - loss: 36.0677 - val_loss: 35.5627\n",
      "Epoch 82/100\n",
      "268/268 [==============================] - 0s 2ms/step - loss: 37.0940 - val_loss: 35.3706\n",
      "Epoch 83/100\n",
      "268/268 [==============================] - 0s 1ms/step - loss: 36.7145 - val_loss: 39.2037\n",
      "Epoch 84/100\n",
      "268/268 [==============================] - 0s 2ms/step - loss: 35.0449 - val_loss: 31.2246\n",
      "Epoch 85/100\n",
      "268/268 [==============================] - 0s 1ms/step - loss: 35.4391 - val_loss: 32.9233\n",
      "Epoch 86/100\n",
      "268/268 [==============================] - 0s 1ms/step - loss: 35.9153 - val_loss: 34.2554\n",
      "Epoch 87/100\n",
      "268/268 [==============================] - 0s 2ms/step - loss: 35.3191 - val_loss: 32.5229\n",
      "Epoch 88/100\n",
      "268/268 [==============================] - 0s 2ms/step - loss: 35.0515 - val_loss: 33.1463\n",
      "Epoch 89/100\n",
      "268/268 [==============================] - 0s 1ms/step - loss: 35.4676 - val_loss: 36.1971\n",
      "Epoch 90/100\n",
      "268/268 [==============================] - 0s 2ms/step - loss: 34.5635 - val_loss: 32.4467\n",
      "Epoch 91/100\n",
      "268/268 [==============================] - 0s 1ms/step - loss: 35.5526 - val_loss: 30.8476\n",
      "Epoch 92/100\n",
      "268/268 [==============================] - 0s 1ms/step - loss: 35.0733 - val_loss: 32.2301\n",
      "Epoch 93/100\n",
      "268/268 [==============================] - 0s 1ms/step - loss: 35.2091 - val_loss: 34.3869\n",
      "Epoch 94/100\n",
      "268/268 [==============================] - 0s 1ms/step - loss: 36.0762 - val_loss: 31.2352\n",
      "Epoch 95/100\n",
      "268/268 [==============================] - 0s 2ms/step - loss: 35.0847 - val_loss: 30.3914\n",
      "Epoch 96/100\n",
      "268/268 [==============================] - 0s 1ms/step - loss: 34.1995 - val_loss: 37.8314\n",
      "Epoch 97/100\n",
      "268/268 [==============================] - 0s 2ms/step - loss: 37.9226 - val_loss: 32.0487\n",
      "Epoch 98/100\n",
      "268/268 [==============================] - 0s 1ms/step - loss: 34.2735 - val_loss: 30.3895\n",
      "Epoch 99/100\n",
      "268/268 [==============================] - 0s 1ms/step - loss: 35.2562 - val_loss: 31.7163\n",
      "Epoch 100/100\n",
      "268/268 [==============================] - 0s 1ms/step - loss: 34.0796 - val_loss: 33.4732\n"
     ]
    },
    {
     "data": {
      "text/plain": [
       "<keras.src.callbacks.History at 0x2014e529d10>"
      ]
     },
     "execution_count": 32,
     "metadata": {},
     "output_type": "execute_result"
    }
   ],
   "source": [
    "ann_def.fit(xtrain, ytrain, validation_data = (xtest, ytest), epochs = 100)"
   ]
  },
  {
   "cell_type": "markdown",
   "metadata": {},
   "source": [
    "##### Creating Report"
   ]
  },
  {
   "cell_type": "code",
   "execution_count": 33,
   "metadata": {},
   "outputs": [
    {
     "name": "stdout",
     "output_type": "stream",
     "text": [
      "30/30 [==============================] - 0s 1ms/step\n",
      "268/268 [==============================] - 0s 1ms/step\n"
     ]
    }
   ],
   "source": [
    "ypred_test = ann_def.predict(xtest)\n",
    "ypred_train = ann_def.predict(xtrain)"
   ]
  },
  {
   "cell_type": "code",
   "execution_count": 34,
   "metadata": {},
   "outputs": [
    {
     "name": "stdout",
     "output_type": "stream",
     "text": [
      "Training Accuracy of are Model is : 0.88%\n",
      "Testing Accuracy of are Model is : 0.89%\n",
      "Mean Absolute Error of are Model is : 4.6125\n"
     ]
    }
   ],
   "source": [
    "print('Training Accuracy of are Model is : ' + str(round(r2_score(ytrain, ypred_train),2)) + '%')\n",
    "print('Testing Accuracy of are Model is : ' + str(round(r2_score(ytest, ypred_test),2)) + '%')\n",
    "print('Mean Absolute Error of are Model is : ' + str(round(mean_absolute_error(ytest, ypred_test), 4)))"
   ]
  },
  {
   "cell_type": "markdown",
   "metadata": {},
   "source": [
    "### Creating ANN Model With Early Stopping And Drop Out Layer"
   ]
  },
  {
   "cell_type": "markdown",
   "metadata": {},
   "source": [
    "#### Creating ann Model"
   ]
  },
  {
   "cell_type": "code",
   "execution_count": 56,
   "metadata": {},
   "outputs": [],
   "source": [
    "early = EarlyStopping(monitor='val_loss',mode='min', patience=25)"
   ]
  },
  {
   "cell_type": "code",
   "execution_count": 57,
   "metadata": {},
   "outputs": [],
   "source": [
    "ann_all =Sequential()"
   ]
  },
  {
   "cell_type": "markdown",
   "metadata": {},
   "source": [
    "##### Creating Hidden Layer"
   ]
  },
  {
   "cell_type": "code",
   "execution_count": 58,
   "metadata": {},
   "outputs": [],
   "source": [
    "ann_all.add(Dense(units=30, activation='relu'))\n",
    "#ann_all.add(Dropout(rate=0.5))\n",
    "\n",
    "ann_all.add(Dense(units=20, activation='relu'))\n",
    "#ann_all.add(Dropout(rate=0.5))"
   ]
  },
  {
   "cell_type": "markdown",
   "metadata": {},
   "source": [
    "##### Creating Output Layer"
   ]
  },
  {
   "cell_type": "code",
   "execution_count": 59,
   "metadata": {},
   "outputs": [],
   "source": [
    "ann_all.add(Dense(units=1))"
   ]
  },
  {
   "cell_type": "markdown",
   "metadata": {},
   "source": [
    "##### Connecting All Neurons In Each Layer"
   ]
  },
  {
   "cell_type": "code",
   "execution_count": 60,
   "metadata": {},
   "outputs": [],
   "source": [
    "ann_all.compile(optimizer='adam', loss='mse')"
   ]
  },
  {
   "cell_type": "markdown",
   "metadata": {},
   "source": [
    "##### Fitting Data"
   ]
  },
  {
   "cell_type": "code",
   "execution_count": 61,
   "metadata": {},
   "outputs": [
    {
     "name": "stdout",
     "output_type": "stream",
     "text": [
      "Epoch 1/500\n"
     ]
    },
    {
     "name": "stdout",
     "output_type": "stream",
     "text": [
      "268/268 [==============================] - 1s 3ms/step - loss: 18526.3867 - val_loss: 273.3725\n",
      "Epoch 2/500\n",
      "268/268 [==============================] - 0s 2ms/step - loss: 248.3226 - val_loss: 272.3678\n",
      "Epoch 3/500\n",
      "268/268 [==============================] - 0s 2ms/step - loss: 248.0609 - val_loss: 272.3416\n",
      "Epoch 4/500\n",
      "268/268 [==============================] - 0s 2ms/step - loss: 248.3682 - val_loss: 271.4495\n",
      "Epoch 5/500\n",
      "268/268 [==============================] - 0s 2ms/step - loss: 248.3507 - val_loss: 274.2265\n",
      "Epoch 6/500\n",
      "268/268 [==============================] - 0s 2ms/step - loss: 247.0939 - val_loss: 273.4586\n",
      "Epoch 7/500\n",
      "268/268 [==============================] - 0s 2ms/step - loss: 246.7000 - val_loss: 270.0494\n",
      "Epoch 8/500\n",
      "268/268 [==============================] - 0s 2ms/step - loss: 245.7663 - val_loss: 268.2557\n",
      "Epoch 9/500\n",
      "268/268 [==============================] - 0s 2ms/step - loss: 245.0353 - val_loss: 283.1416\n",
      "Epoch 10/500\n",
      "268/268 [==============================] - 0s 2ms/step - loss: 244.7762 - val_loss: 265.9020\n",
      "Epoch 11/500\n",
      "268/268 [==============================] - 0s 2ms/step - loss: 245.4991 - val_loss: 268.2734\n",
      "Epoch 12/500\n",
      "268/268 [==============================] - 0s 2ms/step - loss: 242.2544 - val_loss: 267.3573\n",
      "Epoch 13/500\n",
      "268/268 [==============================] - 0s 2ms/step - loss: 241.3294 - val_loss: 263.7319\n",
      "Epoch 14/500\n",
      "268/268 [==============================] - 0s 2ms/step - loss: 240.8846 - val_loss: 259.5369\n",
      "Epoch 15/500\n",
      "268/268 [==============================] - 0s 2ms/step - loss: 237.9763 - val_loss: 259.9043\n",
      "Epoch 16/500\n",
      "268/268 [==============================] - 0s 2ms/step - loss: 236.8027 - val_loss: 260.2321\n",
      "Epoch 17/500\n",
      "268/268 [==============================] - 0s 2ms/step - loss: 235.8628 - val_loss: 252.3271\n",
      "Epoch 18/500\n",
      "268/268 [==============================] - 0s 2ms/step - loss: 232.1222 - val_loss: 252.4353\n",
      "Epoch 19/500\n",
      "268/268 [==============================] - 0s 2ms/step - loss: 230.4010 - val_loss: 245.5792\n",
      "Epoch 20/500\n",
      "268/268 [==============================] - 0s 2ms/step - loss: 228.1520 - val_loss: 247.4263\n",
      "Epoch 21/500\n",
      "268/268 [==============================] - 0s 2ms/step - loss: 226.2789 - val_loss: 262.1893\n",
      "Epoch 22/500\n",
      "268/268 [==============================] - 0s 2ms/step - loss: 220.6630 - val_loss: 235.5506\n",
      "Epoch 23/500\n",
      "268/268 [==============================] - 0s 2ms/step - loss: 215.6058 - val_loss: 231.7009\n",
      "Epoch 24/500\n",
      "268/268 [==============================] - 0s 2ms/step - loss: 214.7491 - val_loss: 239.4606\n",
      "Epoch 25/500\n",
      "268/268 [==============================] - 0s 2ms/step - loss: 208.7457 - val_loss: 237.3053\n",
      "Epoch 26/500\n",
      "268/268 [==============================] - 0s 2ms/step - loss: 206.9854 - val_loss: 226.2098\n",
      "Epoch 27/500\n",
      "268/268 [==============================] - 0s 2ms/step - loss: 202.2807 - val_loss: 265.3815\n",
      "Epoch 28/500\n",
      "268/268 [==============================] - 0s 2ms/step - loss: 198.8606 - val_loss: 211.9520\n",
      "Epoch 29/500\n",
      "268/268 [==============================] - 0s 2ms/step - loss: 193.0722 - val_loss: 200.5051\n",
      "Epoch 30/500\n",
      "268/268 [==============================] - 0s 2ms/step - loss: 186.3372 - val_loss: 210.6885\n",
      "Epoch 31/500\n",
      "268/268 [==============================] - 0s 2ms/step - loss: 184.2955 - val_loss: 190.5361\n",
      "Epoch 32/500\n",
      "268/268 [==============================] - 0s 2ms/step - loss: 174.5139 - val_loss: 182.3148\n",
      "Epoch 33/500\n",
      "268/268 [==============================] - 0s 2ms/step - loss: 170.6621 - val_loss: 179.7634\n",
      "Epoch 34/500\n",
      "268/268 [==============================] - 0s 2ms/step - loss: 166.7440 - val_loss: 171.3028\n",
      "Epoch 35/500\n",
      "268/268 [==============================] - 0s 2ms/step - loss: 157.5298 - val_loss: 169.7303\n",
      "Epoch 36/500\n",
      "268/268 [==============================] - 0s 2ms/step - loss: 150.8878 - val_loss: 166.1543\n",
      "Epoch 37/500\n",
      "268/268 [==============================] - 0s 2ms/step - loss: 145.6128 - val_loss: 148.2207\n",
      "Epoch 38/500\n",
      "268/268 [==============================] - 0s 2ms/step - loss: 139.3099 - val_loss: 141.3769\n",
      "Epoch 39/500\n",
      "268/268 [==============================] - 0s 2ms/step - loss: 131.7715 - val_loss: 133.6585\n",
      "Epoch 40/500\n",
      "268/268 [==============================] - 0s 2ms/step - loss: 125.8030 - val_loss: 127.5962\n",
      "Epoch 41/500\n",
      "268/268 [==============================] - 0s 2ms/step - loss: 114.4522 - val_loss: 123.7268\n",
      "Epoch 42/500\n",
      "268/268 [==============================] - 0s 2ms/step - loss: 110.2115 - val_loss: 110.4399\n",
      "Epoch 43/500\n",
      "268/268 [==============================] - 0s 2ms/step - loss: 104.4611 - val_loss: 102.4406\n",
      "Epoch 44/500\n",
      "268/268 [==============================] - 0s 2ms/step - loss: 98.0163 - val_loss: 97.3199\n",
      "Epoch 45/500\n",
      "268/268 [==============================] - 0s 2ms/step - loss: 88.2157 - val_loss: 102.2580\n",
      "Epoch 46/500\n",
      "268/268 [==============================] - 0s 2ms/step - loss: 83.5359 - val_loss: 80.1020\n",
      "Epoch 47/500\n",
      "268/268 [==============================] - 0s 2ms/step - loss: 77.8127 - val_loss: 74.4521\n",
      "Epoch 48/500\n",
      "268/268 [==============================] - 0s 2ms/step - loss: 71.3248 - val_loss: 70.3552\n",
      "Epoch 49/500\n",
      "268/268 [==============================] - 0s 2ms/step - loss: 66.1866 - val_loss: 64.4806\n",
      "Epoch 50/500\n",
      "268/268 [==============================] - 0s 2ms/step - loss: 62.3576 - val_loss: 58.8168\n",
      "Epoch 51/500\n",
      "268/268 [==============================] - 0s 2ms/step - loss: 58.1239 - val_loss: 60.4455\n",
      "Epoch 52/500\n",
      "268/268 [==============================] - 0s 2ms/step - loss: 54.1011 - val_loss: 52.2811\n",
      "Epoch 53/500\n",
      "268/268 [==============================] - 0s 2ms/step - loss: 53.0577 - val_loss: 47.5934\n",
      "Epoch 54/500\n",
      "268/268 [==============================] - 0s 2ms/step - loss: 48.3192 - val_loss: 46.1612\n",
      "Epoch 55/500\n",
      "268/268 [==============================] - 0s 2ms/step - loss: 47.2595 - val_loss: 49.9254\n",
      "Epoch 56/500\n",
      "268/268 [==============================] - 0s 2ms/step - loss: 47.0150 - val_loss: 43.4914\n",
      "Epoch 57/500\n",
      "268/268 [==============================] - 0s 2ms/step - loss: 46.2761 - val_loss: 41.6119\n",
      "Epoch 58/500\n",
      "268/268 [==============================] - 0s 2ms/step - loss: 45.1205 - val_loss: 51.2219\n",
      "Epoch 59/500\n",
      "268/268 [==============================] - 0s 2ms/step - loss: 43.6365 - val_loss: 52.6522\n",
      "Epoch 60/500\n",
      "268/268 [==============================] - 0s 2ms/step - loss: 42.7533 - val_loss: 43.7888\n",
      "Epoch 61/500\n",
      "268/268 [==============================] - 0s 2ms/step - loss: 41.7728 - val_loss: 38.0164\n",
      "Epoch 62/500\n",
      "268/268 [==============================] - 0s 2ms/step - loss: 42.5285 - val_loss: 43.4711\n",
      "Epoch 63/500\n",
      "268/268 [==============================] - 0s 2ms/step - loss: 42.9456 - val_loss: 37.4912\n",
      "Epoch 64/500\n",
      "268/268 [==============================] - 0s 2ms/step - loss: 43.5583 - val_loss: 37.6026\n",
      "Epoch 65/500\n",
      "268/268 [==============================] - 0s 2ms/step - loss: 42.1234 - val_loss: 43.4724\n",
      "Epoch 66/500\n",
      "268/268 [==============================] - 0s 2ms/step - loss: 42.2851 - val_loss: 37.4495\n",
      "Epoch 67/500\n",
      "268/268 [==============================] - 0s 2ms/step - loss: 43.0275 - val_loss: 37.8153\n",
      "Epoch 68/500\n",
      "268/268 [==============================] - 0s 1ms/step - loss: 43.0123 - val_loss: 38.7939\n",
      "Epoch 69/500\n",
      "268/268 [==============================] - 0s 2ms/step - loss: 40.7273 - val_loss: 36.8663\n",
      "Epoch 70/500\n",
      "268/268 [==============================] - 0s 2ms/step - loss: 40.4642 - val_loss: 37.4303\n",
      "Epoch 71/500\n",
      "268/268 [==============================] - 0s 2ms/step - loss: 40.9908 - val_loss: 36.8095\n",
      "Epoch 72/500\n",
      "268/268 [==============================] - 0s 2ms/step - loss: 41.6895 - val_loss: 44.8821\n",
      "Epoch 73/500\n",
      "268/268 [==============================] - 0s 2ms/step - loss: 42.5910 - val_loss: 39.2299\n",
      "Epoch 74/500\n",
      "268/268 [==============================] - 0s 2ms/step - loss: 42.4178 - val_loss: 40.4185\n",
      "Epoch 75/500\n",
      "268/268 [==============================] - 0s 2ms/step - loss: 40.6491 - val_loss: 37.6775\n",
      "Epoch 76/500\n",
      "268/268 [==============================] - 0s 2ms/step - loss: 41.8184 - val_loss: 37.4425\n",
      "Epoch 77/500\n",
      "268/268 [==============================] - 0s 1ms/step - loss: 41.1420 - val_loss: 38.0978\n",
      "Epoch 78/500\n",
      "268/268 [==============================] - 0s 1ms/step - loss: 41.3644 - val_loss: 38.9268\n",
      "Epoch 79/500\n",
      "268/268 [==============================] - 0s 2ms/step - loss: 40.6722 - val_loss: 45.6320\n",
      "Epoch 80/500\n",
      "268/268 [==============================] - 0s 2ms/step - loss: 40.7802 - val_loss: 37.4407\n",
      "Epoch 81/500\n",
      "268/268 [==============================] - 0s 2ms/step - loss: 40.3029 - val_loss: 38.5773\n",
      "Epoch 82/500\n",
      "268/268 [==============================] - 0s 1ms/step - loss: 41.1706 - val_loss: 45.1633\n",
      "Epoch 83/500\n",
      "268/268 [==============================] - 0s 2ms/step - loss: 44.2006 - val_loss: 72.2671\n",
      "Epoch 84/500\n",
      "268/268 [==============================] - 0s 2ms/step - loss: 42.3540 - val_loss: 36.8248\n",
      "Epoch 85/500\n",
      "268/268 [==============================] - 0s 2ms/step - loss: 41.4613 - val_loss: 36.7045\n",
      "Epoch 86/500\n",
      "268/268 [==============================] - 0s 2ms/step - loss: 41.5798 - val_loss: 37.1604\n",
      "Epoch 87/500\n",
      "268/268 [==============================] - 0s 2ms/step - loss: 40.9777 - val_loss: 38.6242\n",
      "Epoch 88/500\n",
      "268/268 [==============================] - 0s 2ms/step - loss: 40.0329 - val_loss: 39.4175\n",
      "Epoch 89/500\n",
      "268/268 [==============================] - 0s 2ms/step - loss: 42.0800 - val_loss: 42.7577\n",
      "Epoch 90/500\n",
      "268/268 [==============================] - 0s 2ms/step - loss: 40.1047 - val_loss: 40.8992\n",
      "Epoch 91/500\n",
      "268/268 [==============================] - 0s 2ms/step - loss: 40.6280 - val_loss: 40.0947\n",
      "Epoch 92/500\n",
      "268/268 [==============================] - 0s 2ms/step - loss: 41.3938 - val_loss: 36.9839\n",
      "Epoch 93/500\n",
      "268/268 [==============================] - 0s 2ms/step - loss: 41.3050 - val_loss: 38.3756\n",
      "Epoch 94/500\n",
      "268/268 [==============================] - 0s 2ms/step - loss: 41.2803 - val_loss: 58.3230\n",
      "Epoch 95/500\n",
      "268/268 [==============================] - 0s 2ms/step - loss: 43.9561 - val_loss: 40.6613\n",
      "Epoch 96/500\n",
      "268/268 [==============================] - 0s 2ms/step - loss: 40.5699 - val_loss: 43.1146\n",
      "Epoch 97/500\n",
      "268/268 [==============================] - 0s 2ms/step - loss: 40.8458 - val_loss: 44.8652\n",
      "Epoch 98/500\n",
      "268/268 [==============================] - 0s 2ms/step - loss: 42.9907 - val_loss: 40.1508\n",
      "Epoch 99/500\n",
      "268/268 [==============================] - 0s 2ms/step - loss: 43.5361 - val_loss: 36.9096\n",
      "Epoch 100/500\n",
      "268/268 [==============================] - 0s 2ms/step - loss: 40.7818 - val_loss: 39.4175\n",
      "Epoch 101/500\n",
      "268/268 [==============================] - 0s 2ms/step - loss: 40.3852 - val_loss: 36.3984\n",
      "Epoch 102/500\n",
      "268/268 [==============================] - 0s 2ms/step - loss: 41.4904 - val_loss: 40.8645\n",
      "Epoch 103/500\n",
      "268/268 [==============================] - 0s 2ms/step - loss: 41.5811 - val_loss: 37.8894\n",
      "Epoch 104/500\n",
      "268/268 [==============================] - 0s 2ms/step - loss: 41.9376 - val_loss: 37.7526\n",
      "Epoch 105/500\n",
      "268/268 [==============================] - 0s 2ms/step - loss: 41.4693 - val_loss: 39.5631\n",
      "Epoch 106/500\n",
      "268/268 [==============================] - 0s 2ms/step - loss: 40.7577 - val_loss: 38.4283\n",
      "Epoch 107/500\n",
      "268/268 [==============================] - 0s 2ms/step - loss: 41.1958 - val_loss: 37.8331\n",
      "Epoch 108/500\n",
      "268/268 [==============================] - 0s 2ms/step - loss: 39.5374 - val_loss: 37.4440\n",
      "Epoch 109/500\n",
      "268/268 [==============================] - 0s 2ms/step - loss: 40.2581 - val_loss: 36.3536\n",
      "Epoch 110/500\n",
      "268/268 [==============================] - 0s 2ms/step - loss: 41.0526 - val_loss: 51.1617\n",
      "Epoch 111/500\n",
      "268/268 [==============================] - 0s 2ms/step - loss: 41.1176 - val_loss: 36.0317\n",
      "Epoch 112/500\n",
      "268/268 [==============================] - 0s 2ms/step - loss: 41.9266 - val_loss: 38.4885\n",
      "Epoch 113/500\n",
      "268/268 [==============================] - 0s 2ms/step - loss: 40.5626 - val_loss: 37.9625\n",
      "Epoch 114/500\n",
      "268/268 [==============================] - 0s 2ms/step - loss: 40.6617 - val_loss: 39.8660\n",
      "Epoch 115/500\n",
      "268/268 [==============================] - 0s 2ms/step - loss: 40.9820 - val_loss: 38.1667\n",
      "Epoch 116/500\n",
      "268/268 [==============================] - 0s 2ms/step - loss: 42.1465 - val_loss: 37.6126\n",
      "Epoch 117/500\n",
      "268/268 [==============================] - 0s 2ms/step - loss: 39.5754 - val_loss: 37.9788\n",
      "Epoch 118/500\n",
      "268/268 [==============================] - 0s 2ms/step - loss: 39.5165 - val_loss: 36.8104\n",
      "Epoch 119/500\n",
      "268/268 [==============================] - 0s 2ms/step - loss: 40.8925 - val_loss: 36.4205\n",
      "Epoch 120/500\n",
      "268/268 [==============================] - 0s 2ms/step - loss: 42.5906 - val_loss: 35.8904\n",
      "Epoch 121/500\n",
      "268/268 [==============================] - 0s 2ms/step - loss: 39.4144 - val_loss: 40.1025\n",
      "Epoch 122/500\n",
      "268/268 [==============================] - 0s 2ms/step - loss: 39.6564 - val_loss: 36.7922\n",
      "Epoch 123/500\n",
      "268/268 [==============================] - 0s 2ms/step - loss: 41.3064 - val_loss: 38.6293\n",
      "Epoch 124/500\n",
      "268/268 [==============================] - 0s 2ms/step - loss: 40.5223 - val_loss: 37.4042\n",
      "Epoch 125/500\n",
      "268/268 [==============================] - 0s 2ms/step - loss: 39.1824 - val_loss: 37.3678\n",
      "Epoch 126/500\n",
      "268/268 [==============================] - 0s 2ms/step - loss: 41.8749 - val_loss: 65.1312\n",
      "Epoch 127/500\n",
      "268/268 [==============================] - 0s 2ms/step - loss: 40.9809 - val_loss: 36.5108\n",
      "Epoch 128/500\n",
      "268/268 [==============================] - 0s 2ms/step - loss: 39.8092 - val_loss: 41.4225\n",
      "Epoch 129/500\n",
      "268/268 [==============================] - 0s 2ms/step - loss: 42.2753 - val_loss: 36.8184\n",
      "Epoch 130/500\n",
      "268/268 [==============================] - 0s 2ms/step - loss: 40.0603 - val_loss: 37.2816\n",
      "Epoch 131/500\n",
      "268/268 [==============================] - 0s 2ms/step - loss: 41.0552 - val_loss: 35.8523\n",
      "Epoch 132/500\n",
      "268/268 [==============================] - 0s 2ms/step - loss: 40.5348 - val_loss: 38.1980\n",
      "Epoch 133/500\n",
      "268/268 [==============================] - 0s 2ms/step - loss: 41.1870 - val_loss: 35.7444\n",
      "Epoch 134/500\n",
      "268/268 [==============================] - 0s 2ms/step - loss: 40.0727 - val_loss: 36.4396\n",
      "Epoch 135/500\n",
      "268/268 [==============================] - 0s 2ms/step - loss: 40.4231 - val_loss: 40.1062\n",
      "Epoch 136/500\n",
      "268/268 [==============================] - 0s 2ms/step - loss: 40.9276 - val_loss: 36.1610\n",
      "Epoch 137/500\n",
      "268/268 [==============================] - 0s 2ms/step - loss: 40.3465 - val_loss: 35.8902\n",
      "Epoch 138/500\n",
      "268/268 [==============================] - 0s 2ms/step - loss: 41.5783 - val_loss: 35.8823\n",
      "Epoch 139/500\n",
      "268/268 [==============================] - 0s 2ms/step - loss: 40.1442 - val_loss: 48.8702\n",
      "Epoch 140/500\n",
      "268/268 [==============================] - 0s 1ms/step - loss: 41.4629 - val_loss: 36.2753\n",
      "Epoch 141/500\n",
      "268/268 [==============================] - 0s 1ms/step - loss: 38.8959 - val_loss: 47.0299\n",
      "Epoch 142/500\n",
      "268/268 [==============================] - 0s 2ms/step - loss: 39.3984 - val_loss: 36.9551\n",
      "Epoch 143/500\n",
      "268/268 [==============================] - 0s 2ms/step - loss: 40.7053 - val_loss: 40.4020\n",
      "Epoch 144/500\n",
      "268/268 [==============================] - 0s 2ms/step - loss: 40.3621 - val_loss: 38.7269\n",
      "Epoch 145/500\n",
      "268/268 [==============================] - 0s 2ms/step - loss: 41.0118 - val_loss: 38.0730\n",
      "Epoch 146/500\n",
      "268/268 [==============================] - 0s 2ms/step - loss: 41.3020 - val_loss: 39.0760\n",
      "Epoch 147/500\n",
      "268/268 [==============================] - 0s 2ms/step - loss: 40.7845 - val_loss: 35.6531\n",
      "Epoch 148/500\n",
      "268/268 [==============================] - 0s 2ms/step - loss: 39.3590 - val_loss: 35.6406\n",
      "Epoch 149/500\n",
      "268/268 [==============================] - 0s 2ms/step - loss: 41.1274 - val_loss: 38.1637\n",
      "Epoch 150/500\n",
      "268/268 [==============================] - 0s 2ms/step - loss: 40.5791 - val_loss: 38.8993\n",
      "Epoch 151/500\n",
      "268/268 [==============================] - 0s 2ms/step - loss: 40.9677 - val_loss: 69.7215\n",
      "Epoch 152/500\n",
      "268/268 [==============================] - 0s 2ms/step - loss: 39.7344 - val_loss: 40.2576\n",
      "Epoch 153/500\n",
      "268/268 [==============================] - 0s 2ms/step - loss: 40.0134 - val_loss: 39.8835\n",
      "Epoch 154/500\n",
      "268/268 [==============================] - 0s 2ms/step - loss: 39.9018 - val_loss: 36.1614\n",
      "Epoch 155/500\n",
      "268/268 [==============================] - 0s 2ms/step - loss: 40.7681 - val_loss: 38.2623\n",
      "Epoch 156/500\n",
      "268/268 [==============================] - 0s 2ms/step - loss: 39.4635 - val_loss: 36.2273\n",
      "Epoch 157/500\n",
      "268/268 [==============================] - 0s 2ms/step - loss: 40.4155 - val_loss: 46.5565\n",
      "Epoch 158/500\n",
      "268/268 [==============================] - 0s 2ms/step - loss: 39.6230 - val_loss: 35.5753\n",
      "Epoch 159/500\n",
      "268/268 [==============================] - 0s 2ms/step - loss: 40.4726 - val_loss: 36.8775\n",
      "Epoch 160/500\n",
      "268/268 [==============================] - 0s 2ms/step - loss: 40.3266 - val_loss: 44.3746\n",
      "Epoch 161/500\n",
      "268/268 [==============================] - 0s 2ms/step - loss: 39.8478 - val_loss: 53.9782\n",
      "Epoch 162/500\n",
      "268/268 [==============================] - 0s 2ms/step - loss: 40.7676 - val_loss: 39.6004\n",
      "Epoch 163/500\n",
      "268/268 [==============================] - 0s 2ms/step - loss: 39.5275 - val_loss: 36.0051\n",
      "Epoch 164/500\n",
      "268/268 [==============================] - 0s 2ms/step - loss: 41.4389 - val_loss: 35.9177\n",
      "Epoch 165/500\n",
      "268/268 [==============================] - 0s 2ms/step - loss: 42.0082 - val_loss: 35.5809\n",
      "Epoch 166/500\n",
      "268/268 [==============================] - 0s 2ms/step - loss: 39.3891 - val_loss: 44.5609\n",
      "Epoch 167/500\n",
      "268/268 [==============================] - 0s 2ms/step - loss: 39.6234 - val_loss: 43.9304\n",
      "Epoch 168/500\n",
      "268/268 [==============================] - 0s 2ms/step - loss: 40.4174 - val_loss: 35.8181\n",
      "Epoch 169/500\n",
      "268/268 [==============================] - 0s 2ms/step - loss: 39.0738 - val_loss: 36.5070\n",
      "Epoch 170/500\n",
      "268/268 [==============================] - 0s 2ms/step - loss: 41.0802 - val_loss: 47.1832\n",
      "Epoch 171/500\n",
      "268/268 [==============================] - 0s 2ms/step - loss: 40.8517 - val_loss: 35.7560\n",
      "Epoch 172/500\n",
      "268/268 [==============================] - 0s 2ms/step - loss: 39.1759 - val_loss: 35.4836\n",
      "Epoch 173/500\n",
      "268/268 [==============================] - 0s 2ms/step - loss: 39.7412 - val_loss: 36.2691\n",
      "Epoch 174/500\n",
      "268/268 [==============================] - 0s 2ms/step - loss: 39.7957 - val_loss: 36.2100\n",
      "Epoch 175/500\n",
      "268/268 [==============================] - 0s 2ms/step - loss: 39.5868 - val_loss: 37.2823\n",
      "Epoch 176/500\n",
      "268/268 [==============================] - 0s 2ms/step - loss: 40.3478 - val_loss: 35.4201\n",
      "Epoch 177/500\n",
      "268/268 [==============================] - 0s 2ms/step - loss: 41.2285 - val_loss: 36.3410\n",
      "Epoch 178/500\n",
      "268/268 [==============================] - 0s 2ms/step - loss: 40.4810 - val_loss: 41.5119\n",
      "Epoch 179/500\n",
      "268/268 [==============================] - 0s 2ms/step - loss: 40.8613 - val_loss: 37.3260\n",
      "Epoch 180/500\n",
      "268/268 [==============================] - 0s 2ms/step - loss: 40.6051 - val_loss: 36.1645\n",
      "Epoch 181/500\n",
      "268/268 [==============================] - 0s 2ms/step - loss: 40.4112 - val_loss: 38.4876\n",
      "Epoch 182/500\n",
      "268/268 [==============================] - 0s 2ms/step - loss: 40.3189 - val_loss: 38.2691\n",
      "Epoch 183/500\n",
      "268/268 [==============================] - 0s 2ms/step - loss: 39.3323 - val_loss: 35.8930\n",
      "Epoch 184/500\n",
      "268/268 [==============================] - 0s 1ms/step - loss: 39.2064 - val_loss: 46.6973\n",
      "Epoch 185/500\n",
      "268/268 [==============================] - 0s 2ms/step - loss: 40.1436 - val_loss: 45.5684\n",
      "Epoch 186/500\n",
      "268/268 [==============================] - 0s 2ms/step - loss: 39.9448 - val_loss: 42.4983\n",
      "Epoch 187/500\n",
      "268/268 [==============================] - 0s 2ms/step - loss: 39.9584 - val_loss: 36.0701\n",
      "Epoch 188/500\n",
      "268/268 [==============================] - 0s 2ms/step - loss: 40.8374 - val_loss: 76.2260\n",
      "Epoch 189/500\n",
      "268/268 [==============================] - 0s 2ms/step - loss: 40.2053 - val_loss: 35.9180\n",
      "Epoch 190/500\n",
      "268/268 [==============================] - 0s 1ms/step - loss: 40.0606 - val_loss: 36.4413\n",
      "Epoch 191/500\n",
      "268/268 [==============================] - 0s 2ms/step - loss: 40.3472 - val_loss: 42.8513\n",
      "Epoch 192/500\n",
      "268/268 [==============================] - 0s 2ms/step - loss: 39.2576 - val_loss: 44.4048\n",
      "Epoch 193/500\n",
      "268/268 [==============================] - 0s 2ms/step - loss: 39.7483 - val_loss: 35.3711\n",
      "Epoch 194/500\n",
      "268/268 [==============================] - 0s 2ms/step - loss: 40.2576 - val_loss: 61.0821\n",
      "Epoch 195/500\n",
      "268/268 [==============================] - 0s 2ms/step - loss: 39.8783 - val_loss: 40.8307\n",
      "Epoch 196/500\n",
      "268/268 [==============================] - 0s 2ms/step - loss: 38.7456 - val_loss: 36.2598\n",
      "Epoch 197/500\n",
      "268/268 [==============================] - 0s 2ms/step - loss: 41.6178 - val_loss: 42.2684\n",
      "Epoch 198/500\n",
      "268/268 [==============================] - 0s 2ms/step - loss: 40.2764 - val_loss: 36.0466\n",
      "Epoch 199/500\n",
      "268/268 [==============================] - 0s 2ms/step - loss: 39.6134 - val_loss: 35.3761\n",
      "Epoch 200/500\n",
      "268/268 [==============================] - 0s 2ms/step - loss: 40.8960 - val_loss: 36.2028\n",
      "Epoch 201/500\n",
      "268/268 [==============================] - 0s 1ms/step - loss: 40.9932 - val_loss: 49.7091\n",
      "Epoch 202/500\n",
      "268/268 [==============================] - 0s 2ms/step - loss: 38.6182 - val_loss: 35.6839\n",
      "Epoch 203/500\n",
      "268/268 [==============================] - 0s 2ms/step - loss: 40.2214 - val_loss: 39.0566\n",
      "Epoch 204/500\n",
      "268/268 [==============================] - 0s 2ms/step - loss: 39.5862 - val_loss: 45.2259\n",
      "Epoch 205/500\n",
      "268/268 [==============================] - 0s 2ms/step - loss: 39.7745 - val_loss: 45.3711\n",
      "Epoch 206/500\n",
      "268/268 [==============================] - 0s 2ms/step - loss: 40.2029 - val_loss: 56.5486\n",
      "Epoch 207/500\n",
      "268/268 [==============================] - 0s 2ms/step - loss: 39.6732 - val_loss: 35.3380\n",
      "Epoch 208/500\n",
      "268/268 [==============================] - 0s 1ms/step - loss: 38.8511 - val_loss: 35.7572\n",
      "Epoch 209/500\n",
      "268/268 [==============================] - 0s 2ms/step - loss: 39.3921 - val_loss: 35.3166\n",
      "Epoch 210/500\n",
      "268/268 [==============================] - 0s 2ms/step - loss: 39.4069 - val_loss: 36.3062\n",
      "Epoch 211/500\n",
      "268/268 [==============================] - 0s 2ms/step - loss: 41.1263 - val_loss: 36.3280\n",
      "Epoch 212/500\n",
      "268/268 [==============================] - 0s 2ms/step - loss: 38.9603 - val_loss: 37.8442\n",
      "Epoch 213/500\n",
      "268/268 [==============================] - 0s 2ms/step - loss: 40.9786 - val_loss: 38.1497\n",
      "Epoch 214/500\n",
      "268/268 [==============================] - 0s 2ms/step - loss: 40.2916 - val_loss: 40.9906\n",
      "Epoch 215/500\n",
      "268/268 [==============================] - 0s 2ms/step - loss: 38.6601 - val_loss: 35.3545\n",
      "Epoch 216/500\n",
      "268/268 [==============================] - 0s 2ms/step - loss: 41.2343 - val_loss: 35.3472\n",
      "Epoch 217/500\n",
      "268/268 [==============================] - 0s 2ms/step - loss: 40.2729 - val_loss: 35.3122\n",
      "Epoch 218/500\n",
      "268/268 [==============================] - 0s 2ms/step - loss: 39.6446 - val_loss: 43.0456\n",
      "Epoch 219/500\n",
      "268/268 [==============================] - 0s 2ms/step - loss: 40.7221 - val_loss: 36.1166\n",
      "Epoch 220/500\n",
      "268/268 [==============================] - 0s 2ms/step - loss: 40.0516 - val_loss: 38.0728\n",
      "Epoch 221/500\n",
      "268/268 [==============================] - 0s 2ms/step - loss: 41.1178 - val_loss: 39.8563\n",
      "Epoch 222/500\n",
      "268/268 [==============================] - 0s 2ms/step - loss: 39.2395 - val_loss: 46.3257\n",
      "Epoch 223/500\n",
      "268/268 [==============================] - 0s 2ms/step - loss: 39.7787 - val_loss: 35.4811\n",
      "Epoch 224/500\n",
      "268/268 [==============================] - 0s 2ms/step - loss: 39.4253 - val_loss: 35.6396\n",
      "Epoch 225/500\n",
      "268/268 [==============================] - 0s 2ms/step - loss: 41.6710 - val_loss: 37.7864\n",
      "Epoch 226/500\n",
      "268/268 [==============================] - 0s 2ms/step - loss: 39.8464 - val_loss: 47.1317\n",
      "Epoch 227/500\n",
      "268/268 [==============================] - 0s 2ms/step - loss: 40.1440 - val_loss: 55.2714\n",
      "Epoch 228/500\n",
      "268/268 [==============================] - 0s 2ms/step - loss: 39.8411 - val_loss: 39.0352\n",
      "Epoch 229/500\n",
      "268/268 [==============================] - 0s 2ms/step - loss: 39.4266 - val_loss: 35.2966\n",
      "Epoch 230/500\n",
      "268/268 [==============================] - 0s 2ms/step - loss: 39.8768 - val_loss: 39.7298\n",
      "Epoch 231/500\n",
      "268/268 [==============================] - 0s 2ms/step - loss: 39.7021 - val_loss: 43.9483\n",
      "Epoch 232/500\n",
      "268/268 [==============================] - 0s 2ms/step - loss: 41.6763 - val_loss: 43.8951\n",
      "Epoch 233/500\n",
      "268/268 [==============================] - 0s 2ms/step - loss: 40.8281 - val_loss: 38.1283\n",
      "Epoch 234/500\n",
      "268/268 [==============================] - 0s 2ms/step - loss: 38.9741 - val_loss: 42.5800\n",
      "Epoch 235/500\n",
      "268/268 [==============================] - 0s 2ms/step - loss: 38.8100 - val_loss: 35.3412\n",
      "Epoch 236/500\n",
      "268/268 [==============================] - 0s 2ms/step - loss: 39.6830 - val_loss: 38.5717\n",
      "Epoch 237/500\n",
      "268/268 [==============================] - 0s 2ms/step - loss: 40.0312 - val_loss: 45.8407\n",
      "Epoch 238/500\n",
      "268/268 [==============================] - 0s 2ms/step - loss: 39.3272 - val_loss: 35.1989\n",
      "Epoch 239/500\n",
      "268/268 [==============================] - 0s 2ms/step - loss: 39.0673 - val_loss: 35.4194\n",
      "Epoch 240/500\n",
      "268/268 [==============================] - 0s 2ms/step - loss: 39.2811 - val_loss: 35.2231\n",
      "Epoch 241/500\n",
      "268/268 [==============================] - 0s 2ms/step - loss: 39.4643 - val_loss: 36.4910\n",
      "Epoch 242/500\n",
      "268/268 [==============================] - 0s 2ms/step - loss: 39.3050 - val_loss: 36.5769\n",
      "Epoch 243/500\n",
      "268/268 [==============================] - 0s 2ms/step - loss: 39.3944 - val_loss: 49.8137\n",
      "Epoch 244/500\n",
      "268/268 [==============================] - 1s 2ms/step - loss: 40.2009 - val_loss: 36.5688\n",
      "Epoch 245/500\n",
      "268/268 [==============================] - 0s 2ms/step - loss: 39.2034 - val_loss: 35.9728\n",
      "Epoch 246/500\n",
      "268/268 [==============================] - 0s 2ms/step - loss: 39.8286 - val_loss: 39.6425\n",
      "Epoch 247/500\n",
      "268/268 [==============================] - 0s 2ms/step - loss: 40.6105 - val_loss: 35.1959\n",
      "Epoch 248/500\n",
      "268/268 [==============================] - 0s 2ms/step - loss: 42.3897 - val_loss: 35.1851\n",
      "Epoch 249/500\n",
      "268/268 [==============================] - 0s 2ms/step - loss: 38.8486 - val_loss: 37.1353\n",
      "Epoch 250/500\n",
      "268/268 [==============================] - 0s 2ms/step - loss: 40.0418 - val_loss: 52.0628\n",
      "Epoch 251/500\n",
      "268/268 [==============================] - 0s 2ms/step - loss: 39.5096 - val_loss: 37.4904\n",
      "Epoch 252/500\n",
      "268/268 [==============================] - 0s 1ms/step - loss: 39.7381 - val_loss: 39.1664\n",
      "Epoch 253/500\n",
      "268/268 [==============================] - 0s 2ms/step - loss: 41.0637 - val_loss: 39.9604\n",
      "Epoch 254/500\n",
      "268/268 [==============================] - 0s 2ms/step - loss: 39.6396 - val_loss: 37.0118\n",
      "Epoch 255/500\n",
      "268/268 [==============================] - 0s 2ms/step - loss: 39.0608 - val_loss: 35.8706\n",
      "Epoch 256/500\n",
      "268/268 [==============================] - 0s 2ms/step - loss: 39.7131 - val_loss: 38.9323\n",
      "Epoch 257/500\n",
      "268/268 [==============================] - 0s 2ms/step - loss: 39.9584 - val_loss: 36.7492\n",
      "Epoch 258/500\n",
      "268/268 [==============================] - 0s 2ms/step - loss: 40.2165 - val_loss: 44.6552\n",
      "Epoch 259/500\n",
      "268/268 [==============================] - 0s 2ms/step - loss: 40.0564 - val_loss: 35.1649\n",
      "Epoch 260/500\n",
      "268/268 [==============================] - 0s 2ms/step - loss: 38.5617 - val_loss: 36.1259\n",
      "Epoch 261/500\n",
      "268/268 [==============================] - 0s 2ms/step - loss: 40.2351 - val_loss: 35.3571\n",
      "Epoch 262/500\n",
      "268/268 [==============================] - 0s 2ms/step - loss: 39.7014 - val_loss: 41.7147\n",
      "Epoch 263/500\n",
      "268/268 [==============================] - 0s 2ms/step - loss: 40.0424 - val_loss: 39.7831\n",
      "Epoch 264/500\n",
      "268/268 [==============================] - 0s 2ms/step - loss: 40.1964 - val_loss: 54.6530\n",
      "Epoch 265/500\n",
      "268/268 [==============================] - 0s 2ms/step - loss: 41.3066 - val_loss: 37.9667\n",
      "Epoch 266/500\n",
      "268/268 [==============================] - 0s 1ms/step - loss: 39.7357 - val_loss: 36.1605\n",
      "Epoch 267/500\n",
      "268/268 [==============================] - 0s 2ms/step - loss: 39.4167 - val_loss: 40.1625\n",
      "Epoch 268/500\n",
      "268/268 [==============================] - 0s 2ms/step - loss: 40.1227 - val_loss: 42.3208\n",
      "Epoch 269/500\n",
      "268/268 [==============================] - 0s 2ms/step - loss: 39.8434 - val_loss: 35.3116\n",
      "Epoch 270/500\n",
      "268/268 [==============================] - 0s 2ms/step - loss: 39.2759 - val_loss: 42.3438\n",
      "Epoch 271/500\n",
      "268/268 [==============================] - 0s 2ms/step - loss: 38.8400 - val_loss: 52.7794\n",
      "Epoch 272/500\n",
      "268/268 [==============================] - 0s 2ms/step - loss: 40.0950 - val_loss: 35.1462\n",
      "Epoch 273/500\n",
      "268/268 [==============================] - 0s 2ms/step - loss: 41.7852 - val_loss: 35.2988\n",
      "Epoch 274/500\n",
      "268/268 [==============================] - 0s 2ms/step - loss: 38.7759 - val_loss: 41.4661\n",
      "Epoch 275/500\n",
      "268/268 [==============================] - 0s 2ms/step - loss: 39.2445 - val_loss: 60.3846\n",
      "Epoch 276/500\n",
      "268/268 [==============================] - 0s 2ms/step - loss: 39.2337 - val_loss: 35.6729\n",
      "Epoch 277/500\n",
      "268/268 [==============================] - 0s 2ms/step - loss: 38.6884 - val_loss: 39.9823\n",
      "Epoch 278/500\n",
      "268/268 [==============================] - 0s 2ms/step - loss: 40.3521 - val_loss: 35.5587\n",
      "Epoch 279/500\n",
      "268/268 [==============================] - 0s 2ms/step - loss: 39.1337 - val_loss: 35.5839\n",
      "Epoch 280/500\n",
      "268/268 [==============================] - 0s 2ms/step - loss: 38.5515 - val_loss: 37.9832\n",
      "Epoch 281/500\n",
      "268/268 [==============================] - 0s 2ms/step - loss: 38.5130 - val_loss: 37.6363\n",
      "Epoch 282/500\n",
      "268/268 [==============================] - 0s 2ms/step - loss: 42.0149 - val_loss: 35.1144\n",
      "Epoch 283/500\n",
      "268/268 [==============================] - 0s 2ms/step - loss: 42.5140 - val_loss: 43.0749\n",
      "Epoch 284/500\n",
      "268/268 [==============================] - 0s 2ms/step - loss: 39.0880 - val_loss: 35.1154\n",
      "Epoch 285/500\n",
      "268/268 [==============================] - 0s 2ms/step - loss: 40.3335 - val_loss: 38.6202\n",
      "Epoch 286/500\n",
      "268/268 [==============================] - 0s 2ms/step - loss: 39.4545 - val_loss: 38.8100\n",
      "Epoch 287/500\n",
      "268/268 [==============================] - 0s 2ms/step - loss: 38.5611 - val_loss: 60.4609\n",
      "Epoch 288/500\n",
      "268/268 [==============================] - 0s 2ms/step - loss: 38.7048 - val_loss: 38.1820\n",
      "Epoch 289/500\n",
      "268/268 [==============================] - 1s 2ms/step - loss: 39.7390 - val_loss: 35.9945\n",
      "Epoch 290/500\n",
      "268/268 [==============================] - 1s 2ms/step - loss: 38.7048 - val_loss: 41.5272\n",
      "Epoch 291/500\n",
      "268/268 [==============================] - 0s 2ms/step - loss: 39.9762 - val_loss: 44.0576\n",
      "Epoch 292/500\n",
      "268/268 [==============================] - 0s 2ms/step - loss: 43.8010 - val_loss: 35.3733\n",
      "Epoch 293/500\n",
      "268/268 [==============================] - 0s 2ms/step - loss: 40.8410 - val_loss: 35.3825\n",
      "Epoch 294/500\n",
      "268/268 [==============================] - 0s 2ms/step - loss: 39.4226 - val_loss: 35.1219\n",
      "Epoch 295/500\n",
      "268/268 [==============================] - 0s 2ms/step - loss: 38.4308 - val_loss: 36.3273\n",
      "Epoch 296/500\n",
      "268/268 [==============================] - 0s 2ms/step - loss: 40.1451 - val_loss: 35.1511\n",
      "Epoch 297/500\n",
      "268/268 [==============================] - 0s 2ms/step - loss: 40.5494 - val_loss: 35.1157\n",
      "Epoch 298/500\n",
      "268/268 [==============================] - 0s 2ms/step - loss: 39.1541 - val_loss: 35.4845\n",
      "Epoch 299/500\n",
      "268/268 [==============================] - 0s 2ms/step - loss: 38.9235 - val_loss: 38.9775\n",
      "Epoch 300/500\n",
      "268/268 [==============================] - 0s 2ms/step - loss: 39.8228 - val_loss: 35.1348\n",
      "Epoch 301/500\n",
      "268/268 [==============================] - 0s 2ms/step - loss: 39.1654 - val_loss: 38.0764\n",
      "Epoch 302/500\n",
      "268/268 [==============================] - 0s 2ms/step - loss: 38.7379 - val_loss: 37.3098\n",
      "Epoch 303/500\n",
      "268/268 [==============================] - 0s 2ms/step - loss: 40.8581 - val_loss: 38.3513\n",
      "Epoch 304/500\n",
      "268/268 [==============================] - 0s 2ms/step - loss: 39.4810 - val_loss: 45.3542\n",
      "Epoch 305/500\n",
      "268/268 [==============================] - 0s 2ms/step - loss: 39.5580 - val_loss: 35.4418\n",
      "Epoch 306/500\n",
      "268/268 [==============================] - 0s 2ms/step - loss: 38.4487 - val_loss: 37.8202\n",
      "Epoch 307/500\n",
      "268/268 [==============================] - 0s 2ms/step - loss: 39.7855 - val_loss: 35.9473\n"
     ]
    },
    {
     "data": {
      "text/plain": [
       "<keras.src.callbacks.History at 0x2015f21d4d0>"
      ]
     },
     "execution_count": 61,
     "metadata": {},
     "output_type": "execute_result"
    }
   ],
   "source": [
    "ann_all.fit(xtrain, ytrain, validation_data = (xtest, ytest), callbacks=[early] , epochs = 500)"
   ]
  },
  {
   "cell_type": "markdown",
   "metadata": {},
   "source": [
    "- best epochs : 288 "
   ]
  },
  {
   "cell_type": "markdown",
   "metadata": {},
   "source": [
    "##### Creating Report"
   ]
  },
  {
   "cell_type": "code",
   "execution_count": 62,
   "metadata": {},
   "outputs": [
    {
     "name": "stdout",
     "output_type": "stream",
     "text": [
      "30/30 [==============================] - 0s 1ms/step\n",
      "268/268 [==============================] - 0s 1ms/step\n"
     ]
    }
   ],
   "source": [
    "ypred_test = ann_all.predict(xtest)\n",
    "ypred_train = ann_all.predict(xtrain)"
   ]
  },
  {
   "cell_type": "code",
   "execution_count": 63,
   "metadata": {},
   "outputs": [
    {
     "name": "stdout",
     "output_type": "stream",
     "text": [
      "Training Accuracy of are Model is : 0.87%\n",
      "Testing Accuracy of are Model is : 0.88%\n",
      "Mean Absolute Error of are Model is : 4.7631\n"
     ]
    }
   ],
   "source": [
    "print('Training Accuracy of are Model is : ' + str(round(r2_score(ytrain, ypred_train),2)) + '%')\n",
    "print('Testing Accuracy of are Model is : ' + str(round(r2_score(ytest, ypred_test),2)) + '%')\n",
    "print('Mean Absolute Error of are Model is : ' + str(round(mean_absolute_error(ytest, ypred_test), 4)))"
   ]
  },
  {
   "attachments": {},
   "cell_type": "markdown",
   "metadata": {},
   "source": [
    "## Creating Final Model With Hyperparameter Value"
   ]
  },
  {
   "cell_type": "code",
   "execution_count": 64,
   "metadata": {},
   "outputs": [
    {
     "data": {
      "text/html": [
       "<style>#sk-container-id-5 {color: black;background-color: white;}#sk-container-id-5 pre{padding: 0;}#sk-container-id-5 div.sk-toggleable {background-color: white;}#sk-container-id-5 label.sk-toggleable__label {cursor: pointer;display: block;width: 100%;margin-bottom: 0;padding: 0.3em;box-sizing: border-box;text-align: center;}#sk-container-id-5 label.sk-toggleable__label-arrow:before {content: \"▸\";float: left;margin-right: 0.25em;color: #696969;}#sk-container-id-5 label.sk-toggleable__label-arrow:hover:before {color: black;}#sk-container-id-5 div.sk-estimator:hover label.sk-toggleable__label-arrow:before {color: black;}#sk-container-id-5 div.sk-toggleable__content {max-height: 0;max-width: 0;overflow: hidden;text-align: left;background-color: #f0f8ff;}#sk-container-id-5 div.sk-toggleable__content pre {margin: 0.2em;color: black;border-radius: 0.25em;background-color: #f0f8ff;}#sk-container-id-5 input.sk-toggleable__control:checked~div.sk-toggleable__content {max-height: 200px;max-width: 100%;overflow: auto;}#sk-container-id-5 input.sk-toggleable__control:checked~label.sk-toggleable__label-arrow:before {content: \"▾\";}#sk-container-id-5 div.sk-estimator input.sk-toggleable__control:checked~label.sk-toggleable__label {background-color: #d4ebff;}#sk-container-id-5 div.sk-label input.sk-toggleable__control:checked~label.sk-toggleable__label {background-color: #d4ebff;}#sk-container-id-5 input.sk-hidden--visually {border: 0;clip: rect(1px 1px 1px 1px);clip: rect(1px, 1px, 1px, 1px);height: 1px;margin: -1px;overflow: hidden;padding: 0;position: absolute;width: 1px;}#sk-container-id-5 div.sk-estimator {font-family: monospace;background-color: #f0f8ff;border: 1px dotted black;border-radius: 0.25em;box-sizing: border-box;margin-bottom: 0.5em;}#sk-container-id-5 div.sk-estimator:hover {background-color: #d4ebff;}#sk-container-id-5 div.sk-parallel-item::after {content: \"\";width: 100%;border-bottom: 1px solid gray;flex-grow: 1;}#sk-container-id-5 div.sk-label:hover label.sk-toggleable__label {background-color: #d4ebff;}#sk-container-id-5 div.sk-serial::before {content: \"\";position: absolute;border-left: 1px solid gray;box-sizing: border-box;top: 0;bottom: 0;left: 50%;z-index: 0;}#sk-container-id-5 div.sk-serial {display: flex;flex-direction: column;align-items: center;background-color: white;padding-right: 0.2em;padding-left: 0.2em;position: relative;}#sk-container-id-5 div.sk-item {position: relative;z-index: 1;}#sk-container-id-5 div.sk-parallel {display: flex;align-items: stretch;justify-content: center;background-color: white;position: relative;}#sk-container-id-5 div.sk-item::before, #sk-container-id-5 div.sk-parallel-item::before {content: \"\";position: absolute;border-left: 1px solid gray;box-sizing: border-box;top: 0;bottom: 0;left: 50%;z-index: -1;}#sk-container-id-5 div.sk-parallel-item {display: flex;flex-direction: column;z-index: 1;position: relative;background-color: white;}#sk-container-id-5 div.sk-parallel-item:first-child::after {align-self: flex-end;width: 50%;}#sk-container-id-5 div.sk-parallel-item:last-child::after {align-self: flex-start;width: 50%;}#sk-container-id-5 div.sk-parallel-item:only-child::after {width: 0;}#sk-container-id-5 div.sk-dashed-wrapped {border: 1px dashed gray;margin: 0 0.4em 0.5em 0.4em;box-sizing: border-box;padding-bottom: 0.4em;background-color: white;}#sk-container-id-5 div.sk-label label {font-family: monospace;font-weight: bold;display: inline-block;line-height: 1.2em;}#sk-container-id-5 div.sk-label-container {text-align: center;}#sk-container-id-5 div.sk-container {/* jupyter's `normalize.less` sets `[hidden] { display: none; }` but bootstrap.min.css set `[hidden] { display: none !important; }` so we also need the `!important` here to be able to override the default hidden behavior on the sphinx rendered scikit-learn.org. See: https://github.com/scikit-learn/scikit-learn/issues/21755 */display: inline-block !important;position: relative;}#sk-container-id-5 div.sk-text-repr-fallback {display: none;}</style><div id=\"sk-container-id-5\" class=\"sk-top-container\"><div class=\"sk-text-repr-fallback\"><pre>RandomForestRegressor(max_depth=10, max_features=&#x27;auto&#x27;, min_samples_leaf=4,\n",
       "                      min_samples_split=5, n_estimators=1000)</pre><b>In a Jupyter environment, please rerun this cell to show the HTML representation or trust the notebook. <br />On GitHub, the HTML representation is unable to render, please try loading this page with nbviewer.org.</b></div><div class=\"sk-container\" hidden><div class=\"sk-item\"><div class=\"sk-estimator sk-toggleable\"><input class=\"sk-toggleable__control sk-hidden--visually\" id=\"sk-estimator-id-13\" type=\"checkbox\" checked><label for=\"sk-estimator-id-13\" class=\"sk-toggleable__label sk-toggleable__label-arrow\">RandomForestRegressor</label><div class=\"sk-toggleable__content\"><pre>RandomForestRegressor(max_depth=10, max_features=&#x27;auto&#x27;, min_samples_leaf=4,\n",
       "                      min_samples_split=5, n_estimators=1000)</pre></div></div></div></div></div>"
      ],
      "text/plain": [
       "RandomForestRegressor(max_depth=10, max_features='auto', min_samples_leaf=4,\n",
       "                      min_samples_split=5, n_estimators=1000)"
      ]
     },
     "execution_count": 64,
     "metadata": {},
     "output_type": "execute_result"
    }
   ],
   "source": [
    "final_model = RandomForestRegressor(n_estimators = 1000,\n",
    "                                    min_samples_split = 5, \n",
    "                                    min_samples_leaf = 4, \n",
    "                                    max_features = 'auto', \n",
    "                                    max_depth = 10, \n",
    "                                    bootstrap = True)\n",
    "\n",
    "final_model.fit(xtrain,ytrain)"
   ]
  },
  {
   "attachments": {},
   "cell_type": "markdown",
   "metadata": {},
   "source": [
    "#### Evaluating The Model"
   ]
  },
  {
   "attachments": {},
   "cell_type": "markdown",
   "metadata": {},
   "source": [
    "##### Comparing Training And Testing Accuracy"
   ]
  },
  {
   "cell_type": "code",
   "execution_count": 79,
   "metadata": {},
   "outputs": [
    {
     "name": "stdout",
     "output_type": "stream",
     "text": [
      "Training Accuracy of are Model is : 0.96%\n",
      "Training Accuracy of are Model is : 0.94%\n",
      "Mean Absolute Error of are Model is : 3.2941\n",
      "Root Mean Square Error of are Model is : 4.1652\n"
     ]
    }
   ],
   "source": [
    "train_pred = final_model.predict(xtrain)\n",
    "print('Training Accuracy of are Model is : ' + str(round(r2_score(ytrain, train_pred),2)) + '%')\n",
    "\n",
    "test_pred = final_model.predict(xtest)\n",
    "print('Training Accuracy of are Model is : ' + str(round(r2_score(ytest, test_pred),2)) + '%')\n",
    "\n",
    "print('Mean Absolute Error of are Model is : ' + str(round(mean_absolute_error(ytest, test_pred), 4)))\n",
    "\n",
    "print('Root Mean Square Error of are Model is : ' + str(round(mt.sqrt(mean_squared_error(ytest, test_pred)), 4)))"
   ]
  },
  {
   "attachments": {},
   "cell_type": "markdown",
   "metadata": {},
   "source": [
    "## Creating Model"
   ]
  },
  {
   "cell_type": "code",
   "execution_count": 80,
   "metadata": {},
   "outputs": [],
   "source": [
    "pickle.dump(final_model, open('model.pkl','wb'))"
   ]
  }
 ],
 "metadata": {
  "kernelspec": {
   "display_name": "base",
   "language": "python",
   "name": "python3"
  },
  "language_info": {
   "codemirror_mode": {
    "name": "ipython",
    "version": 3
   },
   "file_extension": ".py",
   "mimetype": "text/x-python",
   "name": "python",
   "nbconvert_exporter": "python",
   "pygments_lexer": "ipython3",
   "version": "3.11.3"
  },
  "orig_nbformat": 4
 },
 "nbformat": 4,
 "nbformat_minor": 2
}
